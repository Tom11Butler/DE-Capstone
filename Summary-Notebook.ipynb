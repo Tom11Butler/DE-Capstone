{
 "cells": [
  {
   "cell_type": "markdown",
   "metadata": {},
   "source": [
    "# One Notebook To Rule Them All\n",
    "\n",
    "In this notebook we combine what we know about Infrastructure as Code for building an AWS architecture and cleaning reasonably sized data with Pandas in a notebook.\n",
    "\n",
    "What is implemented here with explanation has been transferred to the Python files for running the project.\n",
    "\n",
    "The below image is a reminder of the data model we are going to implementing.\n",
    "\n",
    "![ERD](erd.png)"
   ]
  },
  {
   "cell_type": "code",
   "execution_count": 1,
   "metadata": {},
   "outputs": [],
   "source": [
    "import pandas as pd\n",
    "import seaborn as sns\n",
    "import psycopg2\n",
    "import boto3\n",
    "import configparser\n",
    "\n",
    "import logging\n",
    "import boto3\n",
    "from botocore.exceptions import ClientError"
   ]
  },
  {
   "cell_type": "markdown",
   "metadata": {},
   "source": [
    "## 1. Set up Boto3 clients so we can connect to AWS instrastructure\n",
    "\n",
    "Rather than writing code that will create an S3 bucket and a Redshift cluster I have decided to only connect to the instances whomever running this decides on. Why? To make things simpler and leave it up to the user how they want to set up their S3 bucket and Redshift cluster. I am cheap, so will be using the cheapest options. The user will have to update their own `dwf.cfg` file, for which I have included a template."
   ]
  },
  {
   "cell_type": "code",
   "execution_count": 2,
   "metadata": {},
   "outputs": [],
   "source": [
    "config = configparser.ConfigParser()\n",
    "config.read_file(open('dwh.cfg'))\n",
    "KEY                    = config.get('AWS','KEY')\n",
    "SECRET                 = config.get('AWS','SECRET')\n",
    "BUCKET                 = config.get('S3', 'BUCKET_NAME')"
   ]
  },
  {
   "cell_type": "markdown",
   "metadata": {},
   "source": [
    "The following block of code sets up the `boto3` clients to the different AWS systems we need. The important one for this section of the notebook is the S3 client. Once we have cleaned the data, we can upload with this client."
   ]
  },
  {
   "cell_type": "code",
   "execution_count": 3,
   "metadata": {},
   "outputs": [],
   "source": [
    "ec2 = boto3.resource('ec2',\n",
    "                       region_name=\"us-west-2\",\n",
    "                       aws_access_key_id=KEY,\n",
    "                       aws_secret_access_key=SECRET\n",
    "                    )\n",
    "\n",
    "s3 = boto3.resource('s3', region_name='eu-west-2',\n",
    "                    aws_access_key_id=KEY,\n",
    "                    aws_secret_access_key=SECRET)\n",
    "\n",
    "iam = boto3.client('iam', region_name='eu-west-2',\n",
    "                   aws_access_key_id=KEY,\n",
    "                   aws_secret_access_key=SECRET)\n",
    "\n",
    "redshift = boto3.client('redshift', region_name='eu-west-2',\n",
    "                        aws_access_key_id=KEY,\n",
    "                        aws_secret_access_key=SECRET)"
   ]
  },
  {
   "cell_type": "markdown",
   "metadata": {},
   "source": [
    "## 2. Clean the `postcodes` dataset\n",
    "\n",
    "The first set of data we are going to deal with is the postcodes data. For this dataset, we want to split out the area classifaction names into there categories. We can also drop all of the columns where it is a (for us) useful reference code that will not be used in our data schema."
   ]
  },
  {
   "cell_type": "code",
   "execution_count": null,
   "metadata": {},
   "outputs": [],
   "source": [
    "postcodes = pd.read_csv('data/National_Statistics_Postcode_Lookup_UK.csv')"
   ]
  },
  {
   "cell_type": "code",
   "execution_count": null,
   "metadata": {},
   "outputs": [],
   "source": [
    "postcodes.head(1)"
   ]
  },
  {
   "cell_type": "markdown",
   "metadata": {},
   "source": [
    "Our area of concern for this next bit is the column titled `Output Area Classification Name`. If we were to do some digging, we would see that there are 110 unique values in this column. However, that does not necessaily mean that there are 110 unique classifications for a postcode. In fact, it turns out that each column has exactly three different classifiers, each separated by a semi-colon. We split up the strings in the column and expand into distinct columns to illustrate this.\n",
    "\n",
    "Now that we know we can split the data this way, we can add these columns to the `postcodes` dataframe. Once we have expanded the data we can drop the original column."
   ]
  },
  {
   "cell_type": "code",
   "execution_count": null,
   "metadata": {},
   "outputs": [],
   "source": [
    "area_classes = postcodes['Output Area Classification Name'].str.split(';', expand=True)\n",
    "\n",
    "postcodes['Area_Class_1'] = area_classes[0]\n",
    "postcodes['Area_Class_2'] = area_classes[1]\n",
    "postcodes['Area_Class_3'] = area_classes[2]\n",
    "\n",
    "postcodes.drop(labels=['Output Area Classification Name'], axis=1, inplace=True)"
   ]
  },
  {
   "cell_type": "markdown",
   "metadata": {},
   "source": [
    "To further clean this data we want to drop all of the columns that are a code for something, which is meaningless to us when we will be creating our data model.\n",
    "\n",
    "We also want to determine which columns have a high percentage of their values missing."
   ]
  },
  {
   "cell_type": "code",
   "execution_count": null,
   "metadata": {},
   "outputs": [],
   "source": [
    "# only want to keep the useful features\n",
    "# (this was done after looking at which ones are worth keeping for our purposes)\n",
    "\n",
    "useful_features = ['Postcode 1'\n",
    "                   ,'Postcode 2'\n",
    "                   ,'Postcode 3'\n",
    "                   , 'County Name'\n",
    "                   , 'Local Authority Name'\n",
    "                   , 'Ward Name'\n",
    "                   , 'Country Name'\n",
    "                   , 'Region Name'\n",
    "                   , 'Parliamentary Constituency Name'\n",
    "                   , 'European Electoral Region Name'\n",
    "                   , 'Primary Care Trust Name'\n",
    "                   , 'Lower Super Output Area Name'\n",
    "                   , 'Middle Super Output Area Name'\n",
    "                   , 'Longitude'\n",
    "                   , 'Latitude'\n",
    "                   , 'Last Uploaded'\n",
    "                   , 'Location'\n",
    "                   , 'Area_Class_1'\n",
    "                   , 'Area_Class_2'\n",
    "                   , 'Area_Class_3']\n",
    "\n",
    "postcodes = postcodes[useful_features]"
   ]
  },
  {
   "cell_type": "code",
   "execution_count": null,
   "metadata": {},
   "outputs": [],
   "source": [
    "postcodes.head(1)"
   ]
  },
  {
   "cell_type": "markdown",
   "metadata": {},
   "source": [
    "### 2.1 Upload the `postcodes` dataset to the S3 bucket\n",
    "\n",
    "This is a very simple line, as found from the `boto3` documentation after we have written it to a new `.csv` file.\n",
    "\n",
    "Once we have written to the file, my records show that we have reduced the size of the file from $770.4$MB to $509.5$MB - not too shabby. This will have a two-fold benefit:\n",
    "- the file will take up less space in the S3 bucket, and\n",
    "- it will be noticeable quicker to upload the file\n",
    "\n",
    "The only problem is that we do not have the use of the S3 bucket UI where it shows the percentage completion of upload to."
   ]
  },
  {
   "cell_type": "code",
   "execution_count": null,
   "metadata": {},
   "outputs": [],
   "source": [
    "postcodes.to_csv(path_or_buf='data/postcodes.csv'\n",
    "                , index=False)"
   ]
  },
  {
   "cell_type": "code",
   "execution_count": null,
   "metadata": {},
   "outputs": [],
   "source": [
    "s3.meta.client.upload_file(Filename='data/postcodes.csv', Bucket=BUCKET, Key='postcode_lkp')"
   ]
  },
  {
   "cell_type": "markdown",
   "metadata": {},
   "source": [
    "### 2.2 Upload the `pp-complete.csv` dataset (it takes a loooooooong time)"
   ]
  },
  {
   "cell_type": "code",
   "execution_count": null,
   "metadata": {},
   "outputs": [],
   "source": [
    "s3.meta.client.upload_file(Filename='data/pp-complete.csv', Bucket=BUCKET, Key='postcode_lkp')"
   ]
  },
  {
   "cell_type": "markdown",
   "metadata": {},
   "source": [
    "If you want to just get a taster, you can download a yearly file - say, 2019 - from the [UK Price Paid Data](https://www.gov.uk/government/statistical-data-sets/price-paid-data-downloads#yearly-file) website."
   ]
  },
  {
   "cell_type": "markdown",
   "metadata": {},
   "source": [
    "## 3. Connect to the Redshift cluster\n",
    "\n",
    "The code below connects to the Amazon Redshift cluster with the properties as defined in the config file."
   ]
  },
  {
   "cell_type": "code",
   "execution_count": 4,
   "metadata": {},
   "outputs": [],
   "source": [
    "config = configparser.ConfigParser()\n",
    "config.read('dwh.cfg')\n",
    "\n",
    "conn = psycopg2.connect(\"host={} dbname={} user={} password={} port={}\".format(*config['CLUSTER'].values()))\n",
    "cur = conn.cursor()"
   ]
  },
  {
   "cell_type": "markdown",
   "metadata": {},
   "source": [
    "### 3.1 Drop and create the tables before we copy and insert data into them\n",
    "\n",
    "Load the SQL extension for within the Jupyter notebook first so we can use SQL code in our interactions with the Redshift cluster.\n",
    "\n",
    "The process flow that the data goes through "
   ]
  },
  {
   "cell_type": "code",
   "execution_count": 5,
   "metadata": {},
   "outputs": [],
   "source": [
    "%load_ext sql"
   ]
  },
  {
   "cell_type": "code",
   "execution_count": 6,
   "metadata": {},
   "outputs": [],
   "source": [
    "from sql_queries import *"
   ]
  },
  {
   "cell_type": "code",
   "execution_count": 7,
   "metadata": {},
   "outputs": [],
   "source": [
    "for query in drop_table_queries:\n",
    "    cur.execute(query)\n",
    "    conn.commit()"
   ]
  },
  {
   "cell_type": "code",
   "execution_count": 8,
   "metadata": {},
   "outputs": [],
   "source": [
    "for query in create_table_queries:\n",
    "    cur.execute(query)\n",
    "    conn.commit()"
   ]
  },
  {
   "cell_type": "code",
   "execution_count": 9,
   "metadata": {},
   "outputs": [],
   "source": [
    "for query in copy_table_queries:\n",
    "    cur.execute(query)\n",
    "    conn.commit()"
   ]
  },
  {
   "cell_type": "code",
   "execution_count": 10,
   "metadata": {},
   "outputs": [],
   "source": [
    "for query in insert_table_queries:\n",
    "    cur.execute(query)\n",
    "    conn.commit()"
   ]
  },
  {
   "cell_type": "markdown",
   "metadata": {},
   "source": [
    "## 4. Run some example queries on our database\n",
    "\n",
    "### 4.1 Look at an example row from each of the tables\n",
    "\n",
    "**4.1.1 house_sales**"
   ]
  },
  {
   "cell_type": "code",
   "execution_count": 6,
   "metadata": {},
   "outputs": [
    {
     "data": {
      "text/html": [
       "<div>\n",
       "<style scoped>\n",
       "    .dataframe tbody tr th:only-of-type {\n",
       "        vertical-align: middle;\n",
       "    }\n",
       "\n",
       "    .dataframe tbody tr th {\n",
       "        vertical-align: top;\n",
       "    }\n",
       "\n",
       "    .dataframe thead th {\n",
       "        text-align: right;\n",
       "    }\n",
       "</style>\n",
       "<table border=\"1\" class=\"dataframe\">\n",
       "  <thead>\n",
       "    <tr style=\"text-align: right;\">\n",
       "      <th></th>\n",
       "      <th>sale_id</th>\n",
       "      <th>house_detail_id</th>\n",
       "      <th>address_id</th>\n",
       "      <th>price</th>\n",
       "      <th>transfer_date</th>\n",
       "      <th>transaction_type</th>\n",
       "    </tr>\n",
       "  </thead>\n",
       "  <tbody>\n",
       "    <tr>\n",
       "      <th>0</th>\n",
       "      <td>{F5F9C3FD-8684-4D4E-B5B8-8E629F77474C}</td>\n",
       "      <td>2</td>\n",
       "      <td>82668945</td>\n",
       "      <td>77500.0</td>\n",
       "      <td>1995-05-19</td>\n",
       "      <td>A</td>\n",
       "    </tr>\n",
       "    <tr>\n",
       "      <th>1</th>\n",
       "      <td>{0611A7D6-9C8F-40BC-BC7C-83B568B558AC}</td>\n",
       "      <td>1</td>\n",
       "      <td>100245425</td>\n",
       "      <td>47995.0</td>\n",
       "      <td>1995-01-31</td>\n",
       "      <td>A</td>\n",
       "    </tr>\n",
       "    <tr>\n",
       "      <th>2</th>\n",
       "      <td>{F61B3F08-4187-4204-A023-91F508C4A365}</td>\n",
       "      <td>6</td>\n",
       "      <td>72994381</td>\n",
       "      <td>69950.0</td>\n",
       "      <td>1995-06-30</td>\n",
       "      <td>A</td>\n",
       "    </tr>\n",
       "  </tbody>\n",
       "</table>\n",
       "</div>"
      ],
      "text/plain": [
       "                                  sale_id  house_detail_id  address_id  \\\n",
       "0  {F5F9C3FD-8684-4D4E-B5B8-8E629F77474C}                2    82668945   \n",
       "1  {0611A7D6-9C8F-40BC-BC7C-83B568B558AC}                1   100245425   \n",
       "2  {F61B3F08-4187-4204-A023-91F508C4A365}                6    72994381   \n",
       "\n",
       "     price transfer_date transaction_type  \n",
       "0  77500.0    1995-05-19                A  \n",
       "1  47995.0    1995-01-31                A  \n",
       "2  69950.0    1995-06-30                A  "
      ]
     },
     "execution_count": 6,
     "metadata": {},
     "output_type": "execute_result"
    }
   ],
   "source": [
    "pd.read_sql_query(('SELECT * FROM house_sales LIMIT 3'), conn)"
   ]
  },
  {
   "cell_type": "markdown",
   "metadata": {},
   "source": [
    "**4.1.2 house_detail_lkp**"
   ]
  },
  {
   "cell_type": "code",
   "execution_count": 7,
   "metadata": {},
   "outputs": [
    {
     "data": {
      "text/html": [
       "<div>\n",
       "<style scoped>\n",
       "    .dataframe tbody tr th:only-of-type {\n",
       "        vertical-align: middle;\n",
       "    }\n",
       "\n",
       "    .dataframe tbody tr th {\n",
       "        vertical-align: top;\n",
       "    }\n",
       "\n",
       "    .dataframe thead th {\n",
       "        text-align: right;\n",
       "    }\n",
       "</style>\n",
       "<table border=\"1\" class=\"dataframe\">\n",
       "  <thead>\n",
       "    <tr style=\"text-align: right;\">\n",
       "      <th></th>\n",
       "      <th>house_detail_id</th>\n",
       "      <th>property_type</th>\n",
       "      <th>new_build</th>\n",
       "      <th>duration</th>\n",
       "    </tr>\n",
       "  </thead>\n",
       "  <tbody>\n",
       "    <tr>\n",
       "      <th>0</th>\n",
       "      <td>2</td>\n",
       "      <td>D</td>\n",
       "      <td>N</td>\n",
       "      <td>F</td>\n",
       "    </tr>\n",
       "    <tr>\n",
       "      <th>1</th>\n",
       "      <td>18</td>\n",
       "      <td>O</td>\n",
       "      <td>N</td>\n",
       "      <td>L</td>\n",
       "    </tr>\n",
       "    <tr>\n",
       "      <th>2</th>\n",
       "      <td>34</td>\n",
       "      <td>T</td>\n",
       "      <td>Y</td>\n",
       "      <td>U</td>\n",
       "    </tr>\n",
       "  </tbody>\n",
       "</table>\n",
       "</div>"
      ],
      "text/plain": [
       "   house_detail_id property_type new_build duration\n",
       "0                2             D         N        F\n",
       "1               18             O         N        L\n",
       "2               34             T         Y        U"
      ]
     },
     "execution_count": 7,
     "metadata": {},
     "output_type": "execute_result"
    }
   ],
   "source": [
    "pd.read_sql_query(('SELECT * FROM house_detail_lkp limit 3'), conn)"
   ]
  },
  {
   "cell_type": "markdown",
   "metadata": {},
   "source": [
    "**4.1.3 address_detail_lkp**"
   ]
  },
  {
   "cell_type": "code",
   "execution_count": 8,
   "metadata": {},
   "outputs": [
    {
     "data": {
      "text/html": [
       "<div>\n",
       "<style scoped>\n",
       "    .dataframe tbody tr th:only-of-type {\n",
       "        vertical-align: middle;\n",
       "    }\n",
       "\n",
       "    .dataframe tbody tr th {\n",
       "        vertical-align: top;\n",
       "    }\n",
       "\n",
       "    .dataframe thead th {\n",
       "        text-align: right;\n",
       "    }\n",
       "</style>\n",
       "<table border=\"1\" class=\"dataframe\">\n",
       "  <thead>\n",
       "    <tr style=\"text-align: right;\">\n",
       "      <th></th>\n",
       "      <th>address_id</th>\n",
       "      <th>paon</th>\n",
       "      <th>saon</th>\n",
       "      <th>street</th>\n",
       "      <th>locality</th>\n",
       "      <th>town_city</th>\n",
       "      <th>district</th>\n",
       "      <th>county</th>\n",
       "      <th>country</th>\n",
       "      <th>postcode</th>\n",
       "      <th>longitude</th>\n",
       "      <th>latitude</th>\n",
       "      <th>area_class_1</th>\n",
       "      <th>area_class_2</th>\n",
       "      <th>area_class_3</th>\n",
       "    </tr>\n",
       "  </thead>\n",
       "  <tbody>\n",
       "    <tr>\n",
       "      <th>0</th>\n",
       "      <td>0</td>\n",
       "      <td>STATION PARADE</td>\n",
       "      <td>5</td>\n",
       "      <td>LONDON ROAD</td>\n",
       "      <td>SUNNINGDALE</td>\n",
       "      <td>ASCOT</td>\n",
       "      <td>None</td>\n",
       "      <td>WINDSOR AND MAIDENHEAD</td>\n",
       "      <td>WINDSOR AND MAIDENHEAD</td>\n",
       "      <td>SL5 0EP</td>\n",
       "      <td>-0.632652</td>\n",
       "      <td>51.391467</td>\n",
       "      <td>Urbanites</td>\n",
       "      <td>Urban professionals and families</td>\n",
       "      <td>Multi-ethnic professionals with families</td>\n",
       "    </tr>\n",
       "    <tr>\n",
       "      <th>1</th>\n",
       "      <td>16</td>\n",
       "      <td>12</td>\n",
       "      <td></td>\n",
       "      <td>MERE HEY</td>\n",
       "      <td>ECCLESTON</td>\n",
       "      <td>ST HELENS</td>\n",
       "      <td>None</td>\n",
       "      <td>ST HELENS</td>\n",
       "      <td>MERSEYSIDE</td>\n",
       "      <td>WA10 5AJ</td>\n",
       "      <td>-2.780725</td>\n",
       "      <td>53.449998</td>\n",
       "      <td>Suburbanites</td>\n",
       "      <td>Suburban achievers</td>\n",
       "      <td>Detached retirement living</td>\n",
       "    </tr>\n",
       "    <tr>\n",
       "      <th>2</th>\n",
       "      <td>32</td>\n",
       "      <td>52</td>\n",
       "      <td></td>\n",
       "      <td>DROVERS DRIVE</td>\n",
       "      <td></td>\n",
       "      <td>KENDAL</td>\n",
       "      <td>None</td>\n",
       "      <td>SOUTH LAKELAND</td>\n",
       "      <td>CUMBRIA</td>\n",
       "      <td>LA9 6FH</td>\n",
       "      <td>-2.735827</td>\n",
       "      <td>54.333394</td>\n",
       "      <td>Urbanites</td>\n",
       "      <td>Urban professionals and families</td>\n",
       "      <td>White professionals</td>\n",
       "    </tr>\n",
       "  </tbody>\n",
       "</table>\n",
       "</div>"
      ],
      "text/plain": [
       "   address_id            paon saon         street     locality  town_city  \\\n",
       "0           0  STATION PARADE    5    LONDON ROAD  SUNNINGDALE      ASCOT   \n",
       "1          16              12            MERE HEY    ECCLESTON  ST HELENS   \n",
       "2          32              52       DROVERS DRIVE                  KENDAL   \n",
       "\n",
       "  district                  county                 country  postcode  \\\n",
       "0     None  WINDSOR AND MAIDENHEAD  WINDSOR AND MAIDENHEAD   SL5 0EP   \n",
       "1     None               ST HELENS              MERSEYSIDE  WA10 5AJ   \n",
       "2     None          SOUTH LAKELAND                 CUMBRIA   LA9 6FH   \n",
       "\n",
       "   longitude   latitude  area_class_1                      area_class_2  \\\n",
       "0  -0.632652  51.391467     Urbanites  Urban professionals and families   \n",
       "1  -2.780725  53.449998  Suburbanites                Suburban achievers   \n",
       "2  -2.735827  54.333394     Urbanites  Urban professionals and families   \n",
       "\n",
       "                               area_class_3  \n",
       "0  Multi-ethnic professionals with families  \n",
       "1                Detached retirement living  \n",
       "2                       White professionals  "
      ]
     },
     "execution_count": 8,
     "metadata": {},
     "output_type": "execute_result"
    }
   ],
   "source": [
    "pd.read_sql_query(('SELECT * FROM address_detail_lkp limit 3'), conn)"
   ]
  },
  {
   "cell_type": "markdown",
   "metadata": {},
   "source": [
    "**4.1.4 dates**"
   ]
  },
  {
   "cell_type": "code",
   "execution_count": 9,
   "metadata": {},
   "outputs": [
    {
     "data": {
      "text/html": [
       "<div>\n",
       "<style scoped>\n",
       "    .dataframe tbody tr th:only-of-type {\n",
       "        vertical-align: middle;\n",
       "    }\n",
       "\n",
       "    .dataframe tbody tr th {\n",
       "        vertical-align: top;\n",
       "    }\n",
       "\n",
       "    .dataframe thead th {\n",
       "        text-align: right;\n",
       "    }\n",
       "</style>\n",
       "<table border=\"1\" class=\"dataframe\">\n",
       "  <thead>\n",
       "    <tr style=\"text-align: right;\">\n",
       "      <th></th>\n",
       "      <th>date_stamp</th>\n",
       "      <th>year</th>\n",
       "      <th>month</th>\n",
       "      <th>week_of_year</th>\n",
       "      <th>day</th>\n",
       "      <th>day_of_week</th>\n",
       "    </tr>\n",
       "  </thead>\n",
       "  <tbody>\n",
       "    <tr>\n",
       "      <th>0</th>\n",
       "      <td>1995-05-12</td>\n",
       "      <td>1995</td>\n",
       "      <td>5</td>\n",
       "      <td>19</td>\n",
       "      <td>12</td>\n",
       "      <td>5</td>\n",
       "    </tr>\n",
       "    <tr>\n",
       "      <th>1</th>\n",
       "      <td>1995-10-16</td>\n",
       "      <td>1995</td>\n",
       "      <td>10</td>\n",
       "      <td>42</td>\n",
       "      <td>16</td>\n",
       "      <td>1</td>\n",
       "    </tr>\n",
       "    <tr>\n",
       "      <th>2</th>\n",
       "      <td>1995-02-01</td>\n",
       "      <td>1995</td>\n",
       "      <td>2</td>\n",
       "      <td>5</td>\n",
       "      <td>1</td>\n",
       "      <td>3</td>\n",
       "    </tr>\n",
       "  </tbody>\n",
       "</table>\n",
       "</div>"
      ],
      "text/plain": [
       "   date_stamp  year  month  week_of_year  day  day_of_week\n",
       "0  1995-05-12  1995      5            19   12            5\n",
       "1  1995-10-16  1995     10            42   16            1\n",
       "2  1995-02-01  1995      2             5    1            3"
      ]
     },
     "execution_count": 9,
     "metadata": {},
     "output_type": "execute_result"
    }
   ],
   "source": [
    "pd.read_sql_query(('SELECT * FROM dates limit 3'), conn)"
   ]
  },
  {
   "cell_type": "markdown",
   "metadata": {},
   "source": [
    "### 4.2 Explore the data\n",
    "\n",
    "**4.2.1 Total sales by property type**"
   ]
  },
  {
   "cell_type": "code",
   "execution_count": 10,
   "metadata": {},
   "outputs": [
    {
     "data": {
      "text/html": [
       "<div>\n",
       "<style scoped>\n",
       "    .dataframe tbody tr th:only-of-type {\n",
       "        vertical-align: middle;\n",
       "    }\n",
       "\n",
       "    .dataframe tbody tr th {\n",
       "        vertical-align: top;\n",
       "    }\n",
       "\n",
       "    .dataframe thead th {\n",
       "        text-align: right;\n",
       "    }\n",
       "</style>\n",
       "<table border=\"1\" class=\"dataframe\">\n",
       "  <thead>\n",
       "    <tr style=\"text-align: right;\">\n",
       "      <th></th>\n",
       "      <th>property_type</th>\n",
       "      <th>total</th>\n",
       "    </tr>\n",
       "  </thead>\n",
       "  <tbody>\n",
       "    <tr>\n",
       "      <th>0</th>\n",
       "      <td>O</td>\n",
       "      <td>282869</td>\n",
       "    </tr>\n",
       "    <tr>\n",
       "      <th>1</th>\n",
       "      <td>F</td>\n",
       "      <td>4562793</td>\n",
       "    </tr>\n",
       "    <tr>\n",
       "      <th>2</th>\n",
       "      <td>D</td>\n",
       "      <td>5807001</td>\n",
       "    </tr>\n",
       "    <tr>\n",
       "      <th>3</th>\n",
       "      <td>S</td>\n",
       "      <td>6934919</td>\n",
       "    </tr>\n",
       "    <tr>\n",
       "      <th>4</th>\n",
       "      <td>T</td>\n",
       "      <td>7643774</td>\n",
       "    </tr>\n",
       "  </tbody>\n",
       "</table>\n",
       "</div>"
      ],
      "text/plain": [
       "  property_type    total\n",
       "0             O   282869\n",
       "1             F  4562793\n",
       "2             D  5807001\n",
       "3             S  6934919\n",
       "4             T  7643774"
      ]
     },
     "execution_count": 10,
     "metadata": {},
     "output_type": "execute_result"
    }
   ],
   "source": [
    "pd.read_sql_query((\"\"\"\n",
    "    SELECT\n",
    "        distinct(b.property_type)\n",
    "        , count(a.*) as total\n",
    "    FROM\n",
    "        house_sales as a\n",
    "        LEFT JOIN house_detail_lkp as b\n",
    "            ON a.house_detail_id = b.house_detail_id\n",
    "    GROUP BY 1\n",
    "    ORDER BY 2\n",
    "    \"\"\"), conn)"
   ]
  },
  {
   "cell_type": "markdown",
   "metadata": {},
   "source": [
    "**4.2.2 Distribution of prices paid for sales below £2m in 2019**\n",
    "\n",
    "Can see that we get a right-tail distribution."
   ]
  },
  {
   "cell_type": "code",
   "execution_count": 11,
   "metadata": {},
   "outputs": [
    {
     "data": {
      "text/plain": [
       "<matplotlib.axes._subplots.AxesSubplot at 0x1a250e2c50>"
      ]
     },
     "execution_count": 11,
     "metadata": {},
     "output_type": "execute_result"
    },
    {
     "data": {
      "image/png": "[encoded data removed]",
      "text/plain": [
       "<Figure size 432x288 with 1 Axes>"
      ]
     },
     "metadata": {
      "needs_background": "light"
     },
     "output_type": "display_data"
    }
   ],
   "source": [
    "pd.read_sql_query((\"\"\"\n",
    "    select\n",
    "        price\n",
    "    from\n",
    "        house_sales as a\n",
    "        left join dates as b\n",
    "            on a.transfer_date = b.date_stamp\n",
    "    where\n",
    "        a.price < 2000000 AND\n",
    "        b.year = 2019\n",
    "        \n",
    "\"\"\"), conn).price.hist(bins=100, xrot=25)"
   ]
  },
  {
   "cell_type": "markdown",
   "metadata": {},
   "source": [
    "**4.2.3 Change in average house price since 1995**"
   ]
  },
  {
   "cell_type": "code",
   "execution_count": 12,
   "metadata": {},
   "outputs": [
    {
     "data": {
      "text/plain": [
       "<matplotlib.axes._subplots.AxesSubplot at 0x1a250bac90>"
      ]
     },
     "execution_count": 12,
     "metadata": {},
     "output_type": "execute_result"
    },
    {
     "data": {
      "image/png": "[encoded data removed]",
      "text/plain": [
       "<Figure size 432x288 with 1 Axes>"
      ]
     },
     "metadata": {
      "needs_background": "light"
     },
     "output_type": "display_data"
    }
   ],
   "source": [
    "pd.read_sql_query((\"\"\"\n",
    "        select\n",
    "            d.year\n",
    "            , count(sale_id) as total_sales\n",
    "            , avg(a.price) as avg_price\n",
    "            , max(a.price) as max_price\n",
    "            , min(a.price) as min_price\n",
    "        from\n",
    "            house_sales as a, dates as d\n",
    "        where\n",
    "            a.transfer_date = d.date_stamp\n",
    "        group by 1\n",
    "        order by 1\n",
    "\"\"\"), conn).plot(x='year', y='avg_price', kind='bar', grid=True)"
   ]
  },
  {
   "cell_type": "markdown",
   "metadata": {},
   "source": [
    "**4.2.4 Average house price in 2011 by the area classification**"
   ]
  },
  {
   "cell_type": "code",
   "execution_count": 13,
   "metadata": {},
   "outputs": [
    {
     "data": {
      "text/plain": [
       "<matplotlib.axes._subplots.AxesSubplot at 0x1a2542bad0>"
      ]
     },
     "execution_count": 13,
     "metadata": {},
     "output_type": "execute_result"
    },
    {
     "data": {
      "image/png": "[encoded data removed]",
      "text/plain": [
       "<Figure size 432x288 with 1 Axes>"
      ]
     },
     "metadata": {
      "needs_background": "light"
     },
     "output_type": "display_data"
    }
   ],
   "source": [
    "pd.read_sql_query((\"\"\"\n",
    "        select\n",
    "            distinct(c.area_class_1)\n",
    "            , avg(a.price) as avg_price\n",
    "        from\n",
    "            house_sales as a\n",
    "            left join dates as b\n",
    "                on a.transfer_date = b.date_stamp\n",
    "            left join address_detail_lkp as c\n",
    "                on a.address_id = c.address_id\n",
    "        where\n",
    "            b.year = 2011\n",
    "        group by 1\n",
    "        order by 2 desc\n",
    "\"\"\"), conn).plot(x='area_class_1', y='avg_price', kind='barh', grid=True)"
   ]
  },
  {
   "cell_type": "code",
   "execution_count": null,
   "metadata": {},
   "outputs": [],
   "source": []
  }
 ],
 "metadata": {
  "kernelspec": {
   "display_name": "Python 3",
   "language": "python",
   "name": "python3"
  },
  "language_info": {
   "codemirror_mode": {
    "name": "ipython",
    "version": 3
   },
   "file_extension": ".py",
   "mimetype": "text/x-python",
   "name": "python",
   "nbconvert_exporter": "python",
   "pygments_lexer": "ipython3",
   "version": "3.7.6"
  }
 },
 "nbformat": 4,
 "nbformat_minor": 4
}
