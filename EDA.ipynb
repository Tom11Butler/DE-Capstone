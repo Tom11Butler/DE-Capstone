{
 "cells": [
  {
   "cell_type": "markdown",
   "metadata": {},
   "source": [
    "# Exploratory Data Analysis\n",
    "Import all the necessary libraries."
   ]
  },
  {
   "cell_type": "code",
   "execution_count": 1,
   "metadata": {},
   "outputs": [],
   "source": [
    "import pandas as pd\n",
    "import glob # used for the * thing in a general filepath\n",
    "import timeit\n",
    "import seaborn as sns\n",
    "\n",
    "%matplotlib inline"
   ]
  },
  {
   "cell_type": "markdown",
   "metadata": {},
   "source": [
    "## 1. House Sales 1995-2020"
   ]
  },
  {
   "cell_type": "code",
   "execution_count": 45,
   "metadata": {},
   "outputs": [],
   "source": [
    "df = pd.read_csv('data/pp-2020.csv', header=None)"
   ]
  },
  {
   "cell_type": "code",
   "execution_count": 52,
   "metadata": {},
   "outputs": [
    {
     "data": {
      "text/html": [
       "<div>\n",
       "<style scoped>\n",
       "    .dataframe tbody tr th:only-of-type {\n",
       "        vertical-align: middle;\n",
       "    }\n",
       "\n",
       "    .dataframe tbody tr th {\n",
       "        vertical-align: top;\n",
       "    }\n",
       "\n",
       "    .dataframe thead th {\n",
       "        text-align: right;\n",
       "    }\n",
       "</style>\n",
       "<table border=\"1\" class=\"dataframe\">\n",
       "  <thead>\n",
       "    <tr style=\"text-align: right;\">\n",
       "      <th></th>\n",
       "      <th>Sale_ID</th>\n",
       "      <th>Price(£)</th>\n",
       "      <th>Transfer_Date</th>\n",
       "      <th>Postcode</th>\n",
       "      <th>Property_Type</th>\n",
       "      <th>New_Build</th>\n",
       "      <th>Freehold</th>\n",
       "      <th>PAON</th>\n",
       "      <th>SAON</th>\n",
       "      <th>Street</th>\n",
       "      <th>Locality</th>\n",
       "      <th>Town/City</th>\n",
       "      <th>District</th>\n",
       "      <th>County</th>\n",
       "      <th>Record_Status</th>\n",
       "      <th>Unknown</th>\n",
       "    </tr>\n",
       "  </thead>\n",
       "  <tbody>\n",
       "    <tr>\n",
       "      <th>0</th>\n",
       "      <td>{9FF0D969-FE3D-11ED-E053-6C04A8C06383}</td>\n",
       "      <td>309000</td>\n",
       "      <td>2020-02-07 00:00</td>\n",
       "      <td>NR29 4BQ</td>\n",
       "      <td>D</td>\n",
       "      <td>N</td>\n",
       "      <td>F</td>\n",
       "      <td>HILL COTTAGE</td>\n",
       "      <td>NaN</td>\n",
       "      <td>OLD CHAPEL ROAD</td>\n",
       "      <td>WINTERTON ON SEA</td>\n",
       "      <td>GREAT YARMOUTH</td>\n",
       "      <td>GREAT YARMOUTH</td>\n",
       "      <td>NORFOLK</td>\n",
       "      <td>A</td>\n",
       "      <td>A</td>\n",
       "    </tr>\n",
       "  </tbody>\n",
       "</table>\n",
       "</div>"
      ],
      "text/plain": [
       "                                  Sale_ID  Price(£)     Transfer_Date  \\\n",
       "0  {9FF0D969-FE3D-11ED-E053-6C04A8C06383}    309000  2020-02-07 00:00   \n",
       "\n",
       "   Postcode Property_Type New_Build Freehold          PAON SAON  \\\n",
       "0  NR29 4BQ             D         N        F  HILL COTTAGE  NaN   \n",
       "\n",
       "            Street          Locality       Town/City        District   County  \\\n",
       "0  OLD CHAPEL ROAD  WINTERTON ON SEA  GREAT YARMOUTH  GREAT YARMOUTH  NORFOLK   \n",
       "\n",
       "  Record_Status Unknown  \n",
       "0             A       A  "
      ]
     },
     "execution_count": 52,
     "metadata": {},
     "output_type": "execute_result"
    }
   ],
   "source": [
    "df.head(1)"
   ]
  },
  {
   "cell_type": "code",
   "execution_count": 47,
   "metadata": {},
   "outputs": [
    {
     "data": {
      "text/plain": [
       "Int64Index([0, 1, 2, 3, 4, 5, 6, 7, 8, 9, 10, 11, 12, 13, 14, 15], dtype='int64')"
      ]
     },
     "execution_count": 47,
     "metadata": {},
     "output_type": "execute_result"
    }
   ],
   "source": [
    "df.columns"
   ]
  },
  {
   "cell_type": "code",
   "execution_count": 51,
   "metadata": {},
   "outputs": [],
   "source": [
    "df.columns = ['Sale_ID', 'Price(£)', 'Transfer_Date', 'Postcode', 'Property_Type',\n",
    "              'New_Build', 'Freehold', 'PAON', 'SAON', 'Street',\n",
    "              'Locality', 'Town/City', 'District', 'County',  'Record_Status',\n",
    "              'Unknown']"
   ]
  },
  {
   "cell_type": "code",
   "execution_count": 49,
   "metadata": {},
   "outputs": [
    {
     "data": {
      "text/plain": [
       "Index(['Sale_ID', 'Price(£)', 'Transfer_Date', 'Postcode', 'Property_Type',\n",
       "       'New_Build', 'Freehold', 'PAON', 'SAON', 'Street', 'Neighbourhood',\n",
       "       'Town/City', 'District', 'Region', 'Record_Status', 'Unknown'],\n",
       "      dtype='object')"
      ]
     },
     "execution_count": 49,
     "metadata": {},
     "output_type": "execute_result"
    }
   ],
   "source": [
    "df.columns"
   ]
  },
  {
   "cell_type": "markdown",
   "metadata": {},
   "source": [
    "## 2. Postcode detail"
   ]
  },
  {
   "cell_type": "code",
   "execution_count": 2,
   "metadata": {},
   "outputs": [],
   "source": [
    "sample_postcodes = pd.read_csv('data/National_Statistics_Postcode_Lookup_UK.csv')"
   ]
  },
  {
   "cell_type": "code",
   "execution_count": 5,
   "metadata": {},
   "outputs": [
    {
     "data": {
      "text/html": [
       "<div>\n",
       "<style scoped>\n",
       "    .dataframe tbody tr th:only-of-type {\n",
       "        vertical-align: middle;\n",
       "    }\n",
       "\n",
       "    .dataframe tbody tr th {\n",
       "        vertical-align: top;\n",
       "    }\n",
       "\n",
       "    .dataframe thead th {\n",
       "        text-align: right;\n",
       "    }\n",
       "</style>\n",
       "<table border=\"1\" class=\"dataframe\">\n",
       "  <thead>\n",
       "    <tr style=\"text-align: right;\">\n",
       "      <th></th>\n",
       "      <th>Postcode 1</th>\n",
       "      <th>Postcode 2</th>\n",
       "      <th>Postcode 3</th>\n",
       "      <th>Date Introduced</th>\n",
       "      <th>User Type</th>\n",
       "      <th>Easting</th>\n",
       "      <th>Northing</th>\n",
       "      <th>Positional Quality</th>\n",
       "      <th>County Code</th>\n",
       "      <th>County Name</th>\n",
       "      <th>...</th>\n",
       "      <th>Output Area Classification Code</th>\n",
       "      <th>Output Area Classification Name</th>\n",
       "      <th>Longitude</th>\n",
       "      <th>Latitude</th>\n",
       "      <th>Spatial Accuracy</th>\n",
       "      <th>Last Uploaded</th>\n",
       "      <th>Location</th>\n",
       "      <th>Socrata ID</th>\n",
       "      <th>Lower Layer Super Output Area (LSOA)</th>\n",
       "      <th>Ward</th>\n",
       "    </tr>\n",
       "  </thead>\n",
       "  <tbody>\n",
       "    <tr>\n",
       "      <th>923070</th>\n",
       "      <td>NN112NP</td>\n",
       "      <td>NN11 2NP</td>\n",
       "      <td>NN11 2NP</td>\n",
       "      <td>10-2014</td>\n",
       "      <td>0</td>\n",
       "      <td>457916</td>\n",
       "      <td>264524</td>\n",
       "      <td>1</td>\n",
       "      <td>E10000021</td>\n",
       "      <td>Northamptonshire</td>\n",
       "      <td>...</td>\n",
       "      <td>5A1</td>\n",
       "      <td>Urbanites;Urban professionals and families;Whi...</td>\n",
       "      <td>-1.152576</td>\n",
       "      <td>52.275824</td>\n",
       "      <td>Postcode Level</td>\n",
       "      <td>06/03/2020</td>\n",
       "      <td>(52.275824, -1.152576)</td>\n",
       "      <td>1066842</td>\n",
       "      <td>NaN</td>\n",
       "      <td>NaN</td>\n",
       "    </tr>\n",
       "  </tbody>\n",
       "</table>\n",
       "<p>1 rows × 38 columns</p>\n",
       "</div>"
      ],
      "text/plain": [
       "       Postcode 1 Postcode 2 Postcode 3 Date Introduced  User Type  Easting  \\\n",
       "923070    NN112NP   NN11 2NP   NN11 2NP         10-2014          0   457916   \n",
       "\n",
       "        Northing  Positional Quality County Code       County Name  ...  \\\n",
       "923070    264524                   1   E10000021  Northamptonshire  ...   \n",
       "\n",
       "       Output Area Classification Code  \\\n",
       "923070                             5A1   \n",
       "\n",
       "                          Output Area Classification Name Longitude  \\\n",
       "923070  Urbanites;Urban professionals and families;Whi... -1.152576   \n",
       "\n",
       "         Latitude Spatial Accuracy Last Uploaded                Location  \\\n",
       "923070  52.275824   Postcode Level    06/03/2020  (52.275824, -1.152576)   \n",
       "\n",
       "       Socrata ID Lower Layer Super Output Area (LSOA) Ward  \n",
       "923070    1066842                                  NaN  NaN  \n",
       "\n",
       "[1 rows x 38 columns]"
      ]
     },
     "execution_count": 5,
     "metadata": {},
     "output_type": "execute_result"
    }
   ],
   "source": [
    "sample_postcodes[sample_postcodes['Postcode 1'] == 'NN112NP']"
   ]
  },
  {
   "cell_type": "code",
   "execution_count": 10,
   "metadata": {},
   "outputs": [
    {
     "data": {
      "text/html": [
       "<div>\n",
       "<style scoped>\n",
       "    .dataframe tbody tr th:only-of-type {\n",
       "        vertical-align: middle;\n",
       "    }\n",
       "\n",
       "    .dataframe tbody tr th {\n",
       "        vertical-align: top;\n",
       "    }\n",
       "\n",
       "    .dataframe thead th {\n",
       "        text-align: right;\n",
       "    }\n",
       "</style>\n",
       "<table border=\"1\" class=\"dataframe\">\n",
       "  <thead>\n",
       "    <tr style=\"text-align: right;\">\n",
       "      <th></th>\n",
       "      <th>Postcode 1</th>\n",
       "      <th>Postcode 2</th>\n",
       "      <th>Postcode 3</th>\n",
       "      <th>Date Introduced</th>\n",
       "      <th>User Type</th>\n",
       "      <th>Easting</th>\n",
       "      <th>Northing</th>\n",
       "      <th>Positional Quality</th>\n",
       "      <th>County Code</th>\n",
       "      <th>County Name</th>\n",
       "      <th>...</th>\n",
       "      <th>Output Area Classification Code</th>\n",
       "      <th>Output Area Classification Name</th>\n",
       "      <th>Longitude</th>\n",
       "      <th>Latitude</th>\n",
       "      <th>Spatial Accuracy</th>\n",
       "      <th>Last Uploaded</th>\n",
       "      <th>Location</th>\n",
       "      <th>Socrata ID</th>\n",
       "      <th>Lower Layer Super Output Area (LSOA)</th>\n",
       "      <th>Ward</th>\n",
       "    </tr>\n",
       "  </thead>\n",
       "  <tbody>\n",
       "    <tr>\n",
       "      <th>0</th>\n",
       "      <td>SL2 1NX</td>\n",
       "      <td>SL2  1NX</td>\n",
       "      <td>SL2 1NX</td>\n",
       "      <td>01-1980</td>\n",
       "      <td>0</td>\n",
       "      <td>496871</td>\n",
       "      <td>181795</td>\n",
       "      <td>1</td>\n",
       "      <td>E99999999</td>\n",
       "      <td>(pseudo) England (UA/MD/LB)</td>\n",
       "      <td>...</td>\n",
       "      <td>4B1</td>\n",
       "      <td>Multicultural metropolitans;Challenged Asian t...</td>\n",
       "      <td>-0.605005</td>\n",
       "      <td>51.526769</td>\n",
       "      <td>Postcode Level</td>\n",
       "      <td>06/03/2020</td>\n",
       "      <td>(51.526769, -0.605005)</td>\n",
       "      <td>1417572</td>\n",
       "      <td>NaN</td>\n",
       "      <td>NaN</td>\n",
       "    </tr>\n",
       "  </tbody>\n",
       "</table>\n",
       "<p>1 rows × 38 columns</p>\n",
       "</div>"
      ],
      "text/plain": [
       "  Postcode 1 Postcode 2 Postcode 3 Date Introduced  User Type  Easting  \\\n",
       "0    SL2 1NX   SL2  1NX    SL2 1NX         01-1980          0   496871   \n",
       "\n",
       "   Northing  Positional Quality County Code                  County Name  ...  \\\n",
       "0    181795                   1   E99999999  (pseudo) England (UA/MD/LB)  ...   \n",
       "\n",
       "  Output Area Classification Code  \\\n",
       "0                             4B1   \n",
       "\n",
       "                     Output Area Classification Name Longitude   Latitude  \\\n",
       "0  Multicultural metropolitans;Challenged Asian t... -0.605005  51.526769   \n",
       "\n",
       "  Spatial Accuracy Last Uploaded                Location Socrata ID  \\\n",
       "0   Postcode Level    06/03/2020  (51.526769, -0.605005)    1417572   \n",
       "\n",
       "  Lower Layer Super Output Area (LSOA) Ward  \n",
       "0                                  NaN  NaN  \n",
       "\n",
       "[1 rows x 38 columns]"
      ]
     },
     "execution_count": 10,
     "metadata": {},
     "output_type": "execute_result"
    }
   ],
   "source": [
    "sample_postcodes.head(1)"
   ]
  },
  {
   "cell_type": "code",
   "execution_count": 4,
   "metadata": {},
   "outputs": [
    {
     "data": {
      "text/plain": [
       "<matplotlib.axes._subplots.AxesSubplot at 0x1a509d2f90>"
      ]
     },
     "execution_count": 4,
     "metadata": {},
     "output_type": "execute_result"
    },
    {
     "data": {
      "image/png": "[encoded data removed]",
      "text/plain": [
       "<Figure size 432x288 with 2 Axes>"
      ]
     },
     "metadata": {
      "needs_background": "light"
     },
     "output_type": "display_data"
    }
   ],
   "source": [
    "sns.heatmap(sample_postcodes.isna())"
   ]
  },
  {
   "cell_type": "markdown",
   "metadata": {},
   "source": [
    "----\n",
    "\n",
    "### 2.1 Extracting the area classification data - ALL THIS IS NEW"
   ]
  },
  {
   "cell_type": "code",
   "execution_count": 69,
   "metadata": {},
   "outputs": [
    {
     "data": {
      "text/plain": [
       "76"
      ]
     },
     "execution_count": 69,
     "metadata": {},
     "output_type": "execute_result"
    }
   ],
   "source": [
    "len(list(sample_postcodes['Output Area Classification Name'].unique()))"
   ]
  },
  {
   "cell_type": "code",
   "execution_count": 14,
   "metadata": {},
   "outputs": [
    {
     "data": {
      "text/plain": [
       "'Hard-pressed living;Challenged terraced workers;Deprived blue-collar terraces'"
      ]
     },
     "execution_count": 14,
     "metadata": {},
     "output_type": "execute_result"
    }
   ],
   "source": [
    "area_classes = sample_postcodes['Output Area Classification Name']"
   ]
  },
  {
   "cell_type": "code",
   "execution_count": 46,
   "metadata": {},
   "outputs": [
    {
     "name": "stdout",
     "output_type": "stream",
     "text": [
      "Have 110 distinct area classifcations\n"
     ]
    }
   ],
   "source": [
    "unique_area_classes = area_classes[0].split(';')\n",
    "\n",
    "num_unique_classes = []\n",
    "\n",
    "for i in range(1,1000):\n",
    "    entry = area_classes[i]\n",
    "    \n",
    "    entry = entry.split(';')\n",
    "    for item in entry:\n",
    "        if item not in unique_area_classes:\n",
    "            unique_area_classes.append(item)\n",
    "    \n",
    "    num_unique_classes.append(len(unique_area_classes))\n",
    "\n",
    "print('Have {} distinct area classifcations'.format(len(unique_area_classes)))"
   ]
  },
  {
   "cell_type": "code",
   "execution_count": 47,
   "metadata": {},
   "outputs": [],
   "source": [
    "foobar = pd.DataFrame.from_dict({'num_unique_classes':num_unique_classes})"
   ]
  },
  {
   "cell_type": "code",
   "execution_count": 48,
   "metadata": {},
   "outputs": [
    {
     "data": {
      "text/plain": [
       "<matplotlib.axes._subplots.AxesSubplot at 0x1a35ed0950>"
      ]
     },
     "execution_count": 48,
     "metadata": {},
     "output_type": "execute_result"
    },
    {
     "data": {
      "image/png": "[encoded data removed]",
      "text/plain": [
       "<Figure size 432x288 with 1 Axes>"
      ]
     },
     "metadata": {
      "needs_background": "light"
     },
     "output_type": "display_data"
    }
   ],
   "source": [
    "foobar.plot()"
   ]
  },
  {
   "cell_type": "markdown",
   "metadata": {},
   "source": [
    "Can reasonably conclude that the number of unique area classifications is 110, given by the maximum number on this plot.\n",
    "\n",
    "Now want to create a dataframe that."
   ]
  },
  {
   "cell_type": "code",
   "execution_count": 54,
   "metadata": {},
   "outputs": [],
   "source": [
    "test = pd.DataFrame(area_classes)['Output Area Classification Name'].str.split(';', expand=True)"
   ]
  },
  {
   "cell_type": "code",
   "execution_count": 55,
   "metadata": {},
   "outputs": [
    {
     "data": {
      "text/plain": [
       "<matplotlib.axes._subplots.AxesSubplot at 0x1a362f8e90>"
      ]
     },
     "execution_count": 55,
     "metadata": {},
     "output_type": "execute_result"
    },
    {
     "data": {
      "image/png": "[encoded data removed]",
      "text/plain": [
       "<Figure size 432x288 with 2 Axes>"
      ]
     },
     "metadata": {
      "needs_background": "light"
     },
     "output_type": "display_data"
    }
   ],
   "source": [
    "sns.heatmap(test.isna())"
   ]
  },
  {
   "cell_type": "code",
   "execution_count": 56,
   "metadata": {},
   "outputs": [
    {
     "data": {
      "text/html": [
       "<div>\n",
       "<style scoped>\n",
       "    .dataframe tbody tr th:only-of-type {\n",
       "        vertical-align: middle;\n",
       "    }\n",
       "\n",
       "    .dataframe tbody tr th {\n",
       "        vertical-align: top;\n",
       "    }\n",
       "\n",
       "    .dataframe thead th {\n",
       "        text-align: right;\n",
       "    }\n",
       "</style>\n",
       "<table border=\"1\" class=\"dataframe\">\n",
       "  <thead>\n",
       "    <tr style=\"text-align: right;\">\n",
       "      <th></th>\n",
       "      <th>0</th>\n",
       "      <th>1</th>\n",
       "      <th>2</th>\n",
       "    </tr>\n",
       "  </thead>\n",
       "  <tbody>\n",
       "    <tr>\n",
       "      <th>0</th>\n",
       "      <td>Multicultural metropolitans</td>\n",
       "      <td>Challenged Asian terraces</td>\n",
       "      <td>Asian terraces and flats</td>\n",
       "    </tr>\n",
       "    <tr>\n",
       "      <th>1</th>\n",
       "      <td>Hard-pressed living</td>\n",
       "      <td>Challenged terraced workers</td>\n",
       "      <td>Deprived blue-collar terraces</td>\n",
       "    </tr>\n",
       "    <tr>\n",
       "      <th>2</th>\n",
       "      <td>Hard-pressed living</td>\n",
       "      <td>Hard pressed ageing workers</td>\n",
       "      <td>Ageing rural industry workers</td>\n",
       "    </tr>\n",
       "    <tr>\n",
       "      <th>3</th>\n",
       "      <td>Multicultural metropolitans</td>\n",
       "      <td>Asian traits</td>\n",
       "      <td>Inner city ethnic mix</td>\n",
       "    </tr>\n",
       "    <tr>\n",
       "      <th>4</th>\n",
       "      <td>Multicultural metropolitans</td>\n",
       "      <td>Asian traits</td>\n",
       "      <td>Inner city ethnic mix</td>\n",
       "    </tr>\n",
       "  </tbody>\n",
       "</table>\n",
       "</div>"
      ],
      "text/plain": [
       "                             0                            1  \\\n",
       "0  Multicultural metropolitans    Challenged Asian terraces   \n",
       "1          Hard-pressed living  Challenged terraced workers   \n",
       "2          Hard-pressed living  Hard pressed ageing workers   \n",
       "3  Multicultural metropolitans                 Asian traits   \n",
       "4  Multicultural metropolitans                 Asian traits   \n",
       "\n",
       "                               2  \n",
       "0       Asian terraces and flats  \n",
       "1  Deprived blue-collar terraces  \n",
       "2  Ageing rural industry workers  \n",
       "3          Inner city ethnic mix  \n",
       "4          Inner city ethnic mix  "
      ]
     },
     "execution_count": 56,
     "metadata": {},
     "output_type": "execute_result"
    }
   ],
   "source": [
    "test.head()"
   ]
  },
  {
   "cell_type": "code",
   "execution_count": 74,
   "metadata": {},
   "outputs": [],
   "source": [
    "my_personal_test = list(test[0].unique())\n",
    "my_proof = list(test[1].unique())\n",
    "my_other_proof = list(test[2].unique())\n",
    "\n",
    "for item in my_personal_test:\n",
    "    if item in my_proof or item in my_other_proof:\n",
    "        print('You were wrong')\n",
    "\n",
    "for item in my_proof:\n",
    "    if item in my_other_proof:\n",
    "        print('You were wrong')"
   ]
  },
  {
   "cell_type": "code",
   "execution_count": 70,
   "metadata": {},
   "outputs": [
    {
     "data": {
      "text/plain": [
       "['Multicultural metropolitans',\n",
       " 'Hard-pressed living',\n",
       " 'Urbanites',\n",
       " 'Suburbanites',\n",
       " 'Rural residents',\n",
       " 'Constrained city dwellers',\n",
       " 'Ethnicity central',\n",
       " 'Cosmopolitans']"
      ]
     },
     "execution_count": 70,
     "metadata": {},
     "output_type": "execute_result"
    }
   ],
   "source": [
    "list(test[0].unique())"
   ]
  },
  {
   "cell_type": "code",
   "execution_count": 71,
   "metadata": {},
   "outputs": [
    {
     "data": {
      "text/plain": [
       "array(['Challenged Asian terraces', 'Challenged terraced workers',\n",
       "       'Hard pressed ageing workers', 'Asian traits',\n",
       "       'Ageing urban living', 'Suburban achievers', 'Farming communities',\n",
       "       'Semi-detached suburbia', 'Rural tenants',\n",
       "       'Urban professionals and families', 'Challenged diversity',\n",
       "       'Ageing city dwellers', 'Aspirational techies',\n",
       "       'Inner city students', 'Rented family living', 'White communities',\n",
       "       'Aspiring and affluent', 'Students around campus',\n",
       "       'Endeavouring ethnic mix', 'Ethnic family life',\n",
       "       'Industrious communities', 'Migration and churn',\n",
       "       'Constrained flat dwellers', 'Ageing rural dwellers',\n",
       "       'Comfortable cosmopolitan', 'Ethnic dynamics'], dtype=object)"
      ]
     },
     "execution_count": 71,
     "metadata": {},
     "output_type": "execute_result"
    }
   ],
   "source": [
    "test[1].unique()"
   ]
  },
  {
   "cell_type": "code",
   "execution_count": 72,
   "metadata": {},
   "outputs": [
    {
     "data": {
      "text/plain": [
       "array(['Asian terraces and flats', 'Deprived blue-collar terraces',\n",
       "       'Ageing rural industry workers', 'Inner city ethnic mix',\n",
       "       'Communal retirement', 'Indian tech achievers',\n",
       "       'Ageing in suburbia', 'Rural workers and families',\n",
       "       'Semi-detached ageing', 'Rural life', 'White professionals',\n",
       "       'Agricultural communities', 'Multi-ethnic hardship',\n",
       "       'White suburban communities',\n",
       "       'Multi-ethnic professionals with families',\n",
       "       'Ageing communities and families', 'Ageing rural flat tenants',\n",
       "       'New EU tech workers', 'Students and commuters',\n",
       "       'Transitional Eastern European neighbourhood',\n",
       "       'Achieving minorities', 'Detached retirement living',\n",
       "       'Older farming communities', 'Renting hard-pressed workers',\n",
       "       'Self-sufficient retirement', 'Private renting new arrivals',\n",
       "       'Rural white-collar workers', 'Challenged transitionaries',\n",
       "       'Hard pressed rented terraces',\n",
       "       'Multicultural student neighbourhood',\n",
       "       'Families in terraces and flats', 'Delayed retirement',\n",
       "       'Ageing industrious workers', 'EU white-collar workers',\n",
       "       'Student digs', 'Multi-ethnic professional service workers',\n",
       "       'Young families and students', 'Hampered aspiration',\n",
       "       'Older workers and retirement', 'Multi-ethnic suburbia',\n",
       "       'Pakistani communities', 'Constrained young families',\n",
       "       'Commuters with young families',\n",
       "       'Retired independent city dwellers', 'Comfortable suburbia',\n",
       "       'Industrious transitions', 'Established farming communities',\n",
       "       'Hard-pressed ethnic mix', 'Industrious hardship',\n",
       "       'Outer city hardship', 'Deprived neighbourhoods',\n",
       "       'Highly-qualified quaternary workers',\n",
       "       'Students and professionals', 'Rural employment and retirees',\n",
       "       'Social renting young families', 'Migrant families',\n",
       "       'Hard-Pressed European Settlers', 'Detached rural retirement',\n",
       "       'Retired city hardship', 'Young hard-pressed families',\n",
       "       'Striving service workers', 'Bangladeshi mixed employment',\n",
       "       'Student communal living', 'Established tech workers',\n",
       "       'Old EU tech workers', 'Multicultural new arrivals',\n",
       "       'Renting rural retirement', 'Eastern European communities',\n",
       "       'Endeavouring flat dwellers', 'Migrant commuters',\n",
       "       'Established renting families', 'Urban cultural mix',\n",
       "       'Constrained commuters', 'Professional service cosmopolitans',\n",
       "       'Constrained neighbourhoods', 'Retired communal city dwellers'],\n",
       "      dtype=object)"
      ]
     },
     "execution_count": 72,
     "metadata": {},
     "output_type": "execute_result"
    }
   ],
   "source": [
    "test[2].unique()"
   ]
  },
  {
   "cell_type": "markdown",
   "metadata": {},
   "source": [
    "## 3. UK Economic Data"
   ]
  },
  {
   "cell_type": "code",
   "execution_count": 28,
   "metadata": {},
   "outputs": [],
   "source": [
    "macro_data = pd.read_csv('data/world_bank_uk_wide/API_GBR_DS2_en_csv_v2_999709.csv', skiprows=3)"
   ]
  },
  {
   "cell_type": "code",
   "execution_count": 29,
   "metadata": {},
   "outputs": [
    {
     "data": {
      "text/html": [
       "<div>\n",
       "<style scoped>\n",
       "    .dataframe tbody tr th:only-of-type {\n",
       "        vertical-align: middle;\n",
       "    }\n",
       "\n",
       "    .dataframe tbody tr th {\n",
       "        vertical-align: top;\n",
       "    }\n",
       "\n",
       "    .dataframe thead th {\n",
       "        text-align: right;\n",
       "    }\n",
       "</style>\n",
       "<table border=\"1\" class=\"dataframe\">\n",
       "  <thead>\n",
       "    <tr style=\"text-align: right;\">\n",
       "      <th></th>\n",
       "      <th>Country Name</th>\n",
       "      <th>Country Code</th>\n",
       "      <th>Indicator Name</th>\n",
       "      <th>Indicator Code</th>\n",
       "      <th>1960</th>\n",
       "      <th>1961</th>\n",
       "      <th>1962</th>\n",
       "      <th>1963</th>\n",
       "      <th>1964</th>\n",
       "      <th>1965</th>\n",
       "      <th>...</th>\n",
       "      <th>2011</th>\n",
       "      <th>2012</th>\n",
       "      <th>2013</th>\n",
       "      <th>2014</th>\n",
       "      <th>2015</th>\n",
       "      <th>2016</th>\n",
       "      <th>2017</th>\n",
       "      <th>2018</th>\n",
       "      <th>2019</th>\n",
       "      <th>Unnamed: 64</th>\n",
       "    </tr>\n",
       "  </thead>\n",
       "  <tbody>\n",
       "    <tr>\n",
       "      <th>0</th>\n",
       "      <td>United Kingdom</td>\n",
       "      <td>GBR</td>\n",
       "      <td>Adjusted net savings, excluding particulate em...</td>\n",
       "      <td>NY.ADJ.SVNX.GN.ZS</td>\n",
       "      <td>NaN</td>\n",
       "      <td>NaN</td>\n",
       "      <td>NaN</td>\n",
       "      <td>NaN</td>\n",
       "      <td>NaN</td>\n",
       "      <td>NaN</td>\n",
       "      <td>...</td>\n",
       "      <td>5.192049</td>\n",
       "      <td>3.756778</td>\n",
       "      <td>3.31287</td>\n",
       "      <td>4.791072</td>\n",
       "      <td>4.903023</td>\n",
       "      <td>4.610518</td>\n",
       "      <td>5.549068</td>\n",
       "      <td>NaN</td>\n",
       "      <td>NaN</td>\n",
       "      <td>NaN</td>\n",
       "    </tr>\n",
       "  </tbody>\n",
       "</table>\n",
       "<p>1 rows × 65 columns</p>\n",
       "</div>"
      ],
      "text/plain": [
       "     Country Name Country Code  \\\n",
       "0  United Kingdom          GBR   \n",
       "\n",
       "                                      Indicator Name     Indicator Code  1960  \\\n",
       "0  Adjusted net savings, excluding particulate em...  NY.ADJ.SVNX.GN.ZS   NaN   \n",
       "\n",
       "   1961  1962  1963  1964  1965  ...      2011      2012     2013      2014  \\\n",
       "0   NaN   NaN   NaN   NaN   NaN  ...  5.192049  3.756778  3.31287  4.791072   \n",
       "\n",
       "       2015      2016      2017  2018  2019  Unnamed: 64  \n",
       "0  4.903023  4.610518  5.549068   NaN   NaN          NaN  \n",
       "\n",
       "[1 rows x 65 columns]"
      ]
     },
     "execution_count": 29,
     "metadata": {},
     "output_type": "execute_result"
    }
   ],
   "source": [
    "macro_data.head(1)"
   ]
  },
  {
   "cell_type": "code",
   "execution_count": 31,
   "metadata": {},
   "outputs": [
    {
     "data": {
      "text/plain": [
       "(1429, 65)"
      ]
     },
     "execution_count": 31,
     "metadata": {},
     "output_type": "execute_result"
    }
   ],
   "source": [
    "macro_data.shape"
   ]
  },
  {
   "cell_type": "code",
   "execution_count": 32,
   "metadata": {},
   "outputs": [],
   "source": [
    "macro_data = macro_data.drop(labels=macro_data.columns[4:39], axis=1)"
   ]
  },
  {
   "cell_type": "code",
   "execution_count": 33,
   "metadata": {},
   "outputs": [],
   "source": [
    "macro_data = macro_data.drop(labels=macro_data.columns[-3:], axis=1)"
   ]
  },
  {
   "cell_type": "code",
   "execution_count": 34,
   "metadata": {},
   "outputs": [
    {
     "data": {
      "text/html": [
       "<div>\n",
       "<style scoped>\n",
       "    .dataframe tbody tr th:only-of-type {\n",
       "        vertical-align: middle;\n",
       "    }\n",
       "\n",
       "    .dataframe tbody tr th {\n",
       "        vertical-align: top;\n",
       "    }\n",
       "\n",
       "    .dataframe thead th {\n",
       "        text-align: right;\n",
       "    }\n",
       "</style>\n",
       "<table border=\"1\" class=\"dataframe\">\n",
       "  <thead>\n",
       "    <tr style=\"text-align: right;\">\n",
       "      <th></th>\n",
       "      <th>Country Name</th>\n",
       "      <th>Country Code</th>\n",
       "      <th>Indicator Name</th>\n",
       "      <th>Indicator Code</th>\n",
       "      <th>1995</th>\n",
       "      <th>1996</th>\n",
       "      <th>1997</th>\n",
       "      <th>1998</th>\n",
       "      <th>1999</th>\n",
       "      <th>2000</th>\n",
       "      <th>...</th>\n",
       "      <th>2008</th>\n",
       "      <th>2009</th>\n",
       "      <th>2010</th>\n",
       "      <th>2011</th>\n",
       "      <th>2012</th>\n",
       "      <th>2013</th>\n",
       "      <th>2014</th>\n",
       "      <th>2015</th>\n",
       "      <th>2016</th>\n",
       "      <th>2017</th>\n",
       "    </tr>\n",
       "  </thead>\n",
       "  <tbody>\n",
       "    <tr>\n",
       "      <th>0</th>\n",
       "      <td>United Kingdom</td>\n",
       "      <td>GBR</td>\n",
       "      <td>Adjusted net savings, excluding particulate em...</td>\n",
       "      <td>NY.ADJ.SVNX.GN.ZS</td>\n",
       "      <td>5.426979</td>\n",
       "      <td>5.76317</td>\n",
       "      <td>7.489882</td>\n",
       "      <td>8.086991</td>\n",
       "      <td>5.56731</td>\n",
       "      <td>5.805897</td>\n",
       "      <td>...</td>\n",
       "      <td>4.370723</td>\n",
       "      <td>2.183413</td>\n",
       "      <td>4.264821</td>\n",
       "      <td>5.192049</td>\n",
       "      <td>3.756778</td>\n",
       "      <td>3.31287</td>\n",
       "      <td>4.791072</td>\n",
       "      <td>4.903023</td>\n",
       "      <td>4.610518</td>\n",
       "      <td>5.549068</td>\n",
       "    </tr>\n",
       "  </tbody>\n",
       "</table>\n",
       "<p>1 rows × 27 columns</p>\n",
       "</div>"
      ],
      "text/plain": [
       "     Country Name Country Code  \\\n",
       "0  United Kingdom          GBR   \n",
       "\n",
       "                                      Indicator Name     Indicator Code  \\\n",
       "0  Adjusted net savings, excluding particulate em...  NY.ADJ.SVNX.GN.ZS   \n",
       "\n",
       "       1995     1996      1997      1998     1999      2000  ...      2008  \\\n",
       "0  5.426979  5.76317  7.489882  8.086991  5.56731  5.805897  ...  4.370723   \n",
       "\n",
       "       2009      2010      2011      2012     2013      2014      2015  \\\n",
       "0  2.183413  4.264821  5.192049  3.756778  3.31287  4.791072  4.903023   \n",
       "\n",
       "       2016      2017  \n",
       "0  4.610518  5.549068  \n",
       "\n",
       "[1 rows x 27 columns]"
      ]
     },
     "execution_count": 34,
     "metadata": {},
     "output_type": "execute_result"
    }
   ],
   "source": [
    "macro_data.head(1)"
   ]
  },
  {
   "cell_type": "code",
   "execution_count": 35,
   "metadata": {},
   "outputs": [
    {
     "data": {
      "text/plain": [
       "<matplotlib.axes._subplots.AxesSubplot at 0x1a1e386210>"
      ]
     },
     "execution_count": 35,
     "metadata": {},
     "output_type": "execute_result"
    },
    {
     "data": {
      "image/png": "[encoded data removed]",
      "text/plain": [
       "<Figure size 432x288 with 2 Axes>"
      ]
     },
     "metadata": {
      "needs_background": "light"
     },
     "output_type": "display_data"
    }
   ],
   "source": [
    "sns.heatmap(macro_data.isna())"
   ]
  },
  {
   "cell_type": "code",
   "execution_count": 36,
   "metadata": {},
   "outputs": [],
   "source": [
    "macro_data = macro_data.dropna(how='any')"
   ]
  },
  {
   "cell_type": "code",
   "execution_count": 37,
   "metadata": {},
   "outputs": [
    {
     "data": {
      "text/plain": [
       "<matplotlib.axes._subplots.AxesSubplot at 0x1a1e2b0a50>"
      ]
     },
     "execution_count": 37,
     "metadata": {},
     "output_type": "execute_result"
    },
    {
     "data": {
      "image/png": "[encoded data removed]",
      "text/plain": [
       "<Figure size 432x288 with 2 Axes>"
      ]
     },
     "metadata": {
      "needs_background": "light"
     },
     "output_type": "display_data"
    }
   ],
   "source": [
    "sns.heatmap(macro_data.isna())"
   ]
  },
  {
   "cell_type": "code",
   "execution_count": 42,
   "metadata": {},
   "outputs": [
    {
     "data": {
      "text/plain": [
       "(562, 27)"
      ]
     },
     "execution_count": 42,
     "metadata": {},
     "output_type": "execute_result"
    }
   ],
   "source": [
    "macro_data.shape"
   ]
  },
  {
   "cell_type": "code",
   "execution_count": 44,
   "metadata": {
    "collapsed": true,
    "jupyter": {
     "outputs_hidden": true
    }
   },
   "outputs": [
    {
     "data": {
      "text/plain": [
       "['Adjusted net savings, excluding particulate emission damage (% of GNI)',\n",
       " 'Adjusted net savings, excluding particulate emission damage (current US$)',\n",
       " 'Adjusted net savings, including particulate emission damage (% of GNI)',\n",
       " 'Adjusted net savings, including particulate emission damage (current US$)',\n",
       " 'Adjusted net national income per capita (annual % growth)',\n",
       " 'Adjusted net national income per capita (constant 2010 US$)',\n",
       " 'Adjusted net national income per capita (current US$)',\n",
       " 'Adjusted net national income (annual % growth)',\n",
       " 'Adjusted net national income (constant 2010 US$)',\n",
       " 'Adjusted net national income (current US$)',\n",
       " 'Adjusted savings: net national savings (% of GNI)',\n",
       " 'Adjusted savings: net national savings (current US$)',\n",
       " 'Adjusted savings: gross savings (% of GNI)',\n",
       " 'Adjusted savings: natural resources depletion (% of GNI)',\n",
       " 'Adjusted savings: particulate emission damage (% of GNI)',\n",
       " 'Adjusted savings: particulate emission damage (current US$)',\n",
       " 'Adjusted savings: energy depletion (% of GNI)',\n",
       " 'Adjusted savings: energy depletion (current US$)',\n",
       " 'Adjusted savings: mineral depletion (% of GNI)',\n",
       " 'Adjusted savings: mineral depletion (current US$)',\n",
       " 'Adjusted savings: consumption of fixed capital (% of GNI)',\n",
       " 'Adjusted savings: consumption of fixed capital (current US$)',\n",
       " 'Adjusted savings: net forest depletion (% of GNI)',\n",
       " 'Adjusted savings: net forest depletion (current US$)',\n",
       " 'Adjusted savings: carbon dioxide damage (% of GNI)',\n",
       " 'Adjusted savings: carbon dioxide damage (current US$)',\n",
       " 'Adjusted savings: education expenditure (% of GNI)',\n",
       " 'Adjusted savings: education expenditure (current US$)',\n",
       " 'Services, value added (% of GDP)',\n",
       " 'Services, value added (constant LCU)',\n",
       " 'Services, value added (annual % growth)',\n",
       " 'Services, value added (constant 2010 US$)',\n",
       " 'Services, value added (current LCU)',\n",
       " 'Services, value added (current US$)',\n",
       " 'Services, value added per worker (constant 2010 US$)',\n",
       " 'Medium and high-tech Industry (including construction) (% manufacturing value added)',\n",
       " 'Industry (including construction), value added (% of GDP)',\n",
       " 'Industry (including construction), value added (constant LCU)',\n",
       " 'Industry (including construction), value added (annual % growth)',\n",
       " 'Industry (including construction), value added (constant 2010 US$)',\n",
       " 'Industry (including construction), value added (current LCU)',\n",
       " 'Industry (including construction), value added (current US$)',\n",
       " 'Manufacturing, value added (% of GDP)',\n",
       " 'Manufacturing, value added (constant LCU)',\n",
       " 'Manufacturing, value added (annual % growth)',\n",
       " 'Manufacturing, value added (constant 2010 US$)',\n",
       " 'Manufacturing, value added (current LCU)',\n",
       " 'Manufacturing, value added (current US$)',\n",
       " 'Industry (including construction), value added per worker (constant 2010 US$)',\n",
       " 'Intentional homicides (per 100,000 people)',\n",
       " 'Travel services (% of commercial service exports)',\n",
       " 'Transport services (% of commercial service exports)',\n",
       " 'Commercial service exports (current US$)',\n",
       " 'Computer, communications and other services (% of commercial service exports)',\n",
       " 'Export value index (2000 = 100)',\n",
       " 'Merchandise exports by the reporting economy (current US$)',\n",
       " 'Merchandise exports by the reporting economy, residual (% of total merchandise exports)',\n",
       " 'Merchandise exports to low- and middle-income economies in Sub-Saharan Africa (% of total merchandise exports)',\n",
       " 'Merchandise exports to low- and middle-income economies in South Asia (% of total merchandise exports)',\n",
       " 'Merchandise exports to low- and middle-income economies in Middle East & North Africa (% of total merchandise exports)',\n",
       " 'Merchandise exports to low- and middle-income economies in Latin America & the Caribbean (% of total merchandise exports)',\n",
       " 'Merchandise exports to low- and middle-income economies in Europe & Central Asia (% of total merchandise exports)',\n",
       " 'Merchandise exports to low- and middle-income economies in East Asia & Pacific (% of total merchandise exports)',\n",
       " 'Merchandise exports to low- and middle-income economies outside region (% of total merchandise exports)',\n",
       " 'Merchandise exports to high-income economies (% of total merchandise exports)',\n",
       " 'Merchandise exports (current US$)',\n",
       " 'Merchandise exports to economies in the Arab World (% of total merchandise exports)',\n",
       " 'Ores and metals exports (% of merchandise exports)',\n",
       " 'Manufactures exports (% of merchandise exports)',\n",
       " 'Insurance and financial services (% of commercial service exports)',\n",
       " 'Fuel exports (% of merchandise exports)',\n",
       " 'Food exports (% of merchandise exports)',\n",
       " 'Agricultural raw materials exports (% of merchandise exports)',\n",
       " 'Medium and high-tech exports (% manufactured exports)',\n",
       " 'Travel services (% of commercial service imports)',\n",
       " 'Transport services (% of commercial service imports)',\n",
       " 'Commercial service imports (current US$)',\n",
       " 'Computer, communications and other services (% of commercial service imports)',\n",
       " 'Import value index (2000 = 100)',\n",
       " 'Merchandise imports by the reporting economy (current US$)',\n",
       " 'Merchandise imports by the reporting economy, residual (% of total merchandise imports)',\n",
       " 'Merchandise imports from low- and middle-income economies in Sub-Saharan Africa (% of total merchandise imports)',\n",
       " 'Merchandise imports from low- and middle-income economies in South Asia (% of total merchandise imports)',\n",
       " 'Merchandise imports from low- and middle-income economies in Middle East & North Africa (% of total merchandise imports)',\n",
       " 'Merchandise imports from low- and middle-income economies in Latin America & the Caribbean (% of total merchandise imports)',\n",
       " 'Merchandise imports from low- and middle-income economies in Europe & Central Asia (% of total merchandise imports)',\n",
       " 'Merchandise imports from low- and middle-income economies in East Asia & Pacific (% of total merchandise imports)',\n",
       " 'Merchandise imports from low- and middle-income economies outside region (% of total merchandise imports)',\n",
       " 'Merchandise imports from high-income economies (% of total merchandise imports)',\n",
       " 'Merchandise imports (current US$)',\n",
       " 'Merchandise imports from economies in the Arab World (% of total merchandise imports)',\n",
       " 'Ores and metals imports (% of merchandise imports)',\n",
       " 'Manufactures imports (% of merchandise imports)',\n",
       " 'Insurance and financial services (% of commercial service imports)',\n",
       " 'Fuel imports (% of merchandise imports)',\n",
       " 'Food imports (% of merchandise imports)',\n",
       " 'Agricultural raw materials imports (% of merchandise imports)',\n",
       " 'Tariff rate, most favored nation, weighted mean, primary products (%)',\n",
       " 'Tariff rate, applied, weighted mean, primary products (%)',\n",
       " 'Share of tariff lines with specific rates, primary products (%)',\n",
       " 'Tariff rate, most favored nation, simple mean, primary products (%)',\n",
       " 'Tariff rate, applied, simple mean, primary products (%)',\n",
       " 'Share of tariff lines with international peaks, primary products (%)',\n",
       " 'Bound rate, simple mean, primary products (%)',\n",
       " 'Binding coverage, primary products (%)',\n",
       " 'Tariff rate, most favored nation, weighted mean, all products (%)',\n",
       " 'Tariff rate, applied, weighted mean, all products (%)',\n",
       " 'Share of tariff lines with specific rates, all products (%)',\n",
       " 'Tariff rate, most favored nation, simple mean, all products (%)',\n",
       " 'Tariff rate, applied, simple mean, all products (%)',\n",
       " 'Share of tariff lines with international peaks, all products (%)',\n",
       " 'Bound rate, simple mean, all products (%)',\n",
       " 'Binding coverage, all products (%)',\n",
       " 'Tariff rate, most favored nation, weighted mean, manufactured products (%)',\n",
       " 'Tariff rate, applied, weighted mean, manufactured products (%)',\n",
       " 'Share of tariff lines with specific rates, manufactured products (%)',\n",
       " 'Tariff rate, most favored nation, simple mean, manufactured products (%)',\n",
       " 'Tariff rate, applied, simple mean, manufactured products (%)',\n",
       " 'Share of tariff lines with international peaks, manufactured products (%)',\n",
       " 'Bound rate, simple mean, manufactured products (%)',\n",
       " 'Binding coverage, manufactured products (%)',\n",
       " 'Merchandise trade (% of GDP)',\n",
       " 'International tourism, expenditures (% of total imports)',\n",
       " 'International tourism, expenditures (current US$)',\n",
       " 'International tourism, expenditures for travel items (current US$)',\n",
       " 'International tourism, receipts for travel items (current US$)',\n",
       " 'International tourism, receipts (% of total exports)',\n",
       " 'International tourism, receipts (current US$)',\n",
       " 'International tourism, number of arrivals',\n",
       " 'Urban population (% of total population)',\n",
       " 'Urban population',\n",
       " 'Urban population growth (annual %)',\n",
       " 'Rural population (% of total population)',\n",
       " 'Rural population growth (annual %)',\n",
       " 'Rural population',\n",
       " 'Population, male (% of total population)',\n",
       " 'Population, male',\n",
       " 'Population, female (% of total population)',\n",
       " 'Population, female',\n",
       " 'Population, total',\n",
       " 'Population growth (annual %)',\n",
       " 'Age dependency ratio, young (% of working-age population)',\n",
       " 'Age dependency ratio, old (% of working-age population)',\n",
       " 'Age dependency ratio (% of working-age population)',\n",
       " 'Population ages 80 and above, male (% of male population)',\n",
       " 'Population ages 80 and above, female (% of female population)',\n",
       " 'Population ages 75-79, male (% of male population)',\n",
       " 'Population ages 75-79, female (% of female population)',\n",
       " 'Population ages 70-74, male (% of male population)',\n",
       " 'Population ages 70-74, female (% of female population)',\n",
       " 'Population ages 65 and above (% of total population)',\n",
       " 'Population ages 65 and above, total',\n",
       " 'Population ages 65 and above, male (% of male population)',\n",
       " 'Population ages 65 and above, male',\n",
       " 'Population ages 65 and above, female (% of female population)',\n",
       " 'Population ages 65 and above, female',\n",
       " 'Population ages 65-69, male (% of male population)',\n",
       " 'Population ages 65-69, female (% of female population)',\n",
       " 'Population ages 60-64, male (% of male population)',\n",
       " 'Population ages 60-64, female (% of female population)',\n",
       " 'Population ages 55-59, male (% of male population)',\n",
       " 'Population ages 55-59, female (% of female population)',\n",
       " 'Population ages 50-54, male (% of male population)',\n",
       " 'Population ages 50-54, female (% of female population)',\n",
       " 'Population ages 45-49, male (% of male population)',\n",
       " 'Population ages 45-49, female (% of female population)',\n",
       " 'Population ages 40-44, male (% of male population)',\n",
       " 'Population ages 40-44, female (% of female population)',\n",
       " 'Population ages 35-39, male (% of male population)',\n",
       " 'Population ages 35-39, female (% of female population)',\n",
       " 'Population ages 30-34, male (% of male population)',\n",
       " 'Population ages 30-34, female (% of female population)',\n",
       " 'Population ages 25-29, male (% of male population)',\n",
       " 'Population ages 25-29, female (% of female population)',\n",
       " 'Population ages 20-24, male (% of male population)',\n",
       " 'Population ages 20-24, female (% of female population)',\n",
       " 'Population ages 15-64 (% of total population)',\n",
       " 'Population ages 15-64, total',\n",
       " 'Population ages 15-64, male (% of male population)',\n",
       " 'Population ages 15-64, male',\n",
       " 'Population ages 15-64, female (% of female population)',\n",
       " 'Population ages 15-64, female',\n",
       " 'Population ages 15-19, male (% of male population)',\n",
       " 'Population ages 15-19, female (% of female population)',\n",
       " 'Population ages 10-14, male (% of male population)',\n",
       " 'Population ages 10-14, female (% of female population)',\n",
       " 'Population ages 05-09, male (% of male population)',\n",
       " 'Population ages 05-09, female (% of female population)',\n",
       " 'Population ages 0-14 (% of total population)',\n",
       " 'Population ages 0-14, total',\n",
       " 'Population ages 0-14, male (% of male population)',\n",
       " 'Population ages 0-14, male',\n",
       " 'Population ages 0-14, female (% of female population)',\n",
       " 'Population ages 0-14, female',\n",
       " 'Population ages 00-04, male (% of male population)',\n",
       " 'Population ages 00-04, female (% of female population)',\n",
       " 'Survival to age 65, male (% of cohort)',\n",
       " 'Survival to age 65, female (% of cohort)',\n",
       " 'Fertility rate, total (births per woman)',\n",
       " 'Life expectancy at birth, male (years)',\n",
       " 'Life expectancy at birth, total (years)',\n",
       " 'Life expectancy at birth, female (years)',\n",
       " 'Mortality rate, infant (per 1,000 live births)',\n",
       " 'Death rate, crude (per 1,000 people)',\n",
       " 'Birth rate, crude (per 1,000 people)',\n",
       " 'Adolescent fertility rate (births per 1,000 women ages 15-19)',\n",
       " 'Refugee population by country or territory of origin',\n",
       " 'Refugee population by country or territory of asylum',\n",
       " 'Unemployment, total (% of total labor force) (modeled ILO estimate)',\n",
       " 'Unemployment, total (% of total labor force) (national estimate)',\n",
       " 'Unemployment, male (% of male labor force) (modeled ILO estimate)',\n",
       " 'Unemployment, male (% of male labor force) (national estimate)',\n",
       " 'Unemployment, female (% of female labor force) (modeled ILO estimate)',\n",
       " 'Unemployment, female (% of female labor force) (national estimate)',\n",
       " 'Unemployment, youth total (% of total labor force ages 15-24) (modeled ILO estimate)',\n",
       " 'Unemployment, youth total (% of total labor force ages 15-24) (national estimate)',\n",
       " 'Unemployment, youth male (% of male labor force ages 15-24) (modeled ILO estimate)',\n",
       " 'Unemployment, youth male (% of male labor force ages 15-24) (national estimate)',\n",
       " 'Unemployment, youth female (% of female labor force ages 15-24) (modeled ILO estimate)',\n",
       " 'Unemployment, youth female (% of female labor force ages 15-24) (national estimate)',\n",
       " 'Labor force, total',\n",
       " 'Labor force, female (% of total labor force)',\n",
       " 'Part time employment, total (% of total employment)',\n",
       " 'Part time employment, male (% of total male employment)',\n",
       " 'Part time employment, female (% of total female employment)',\n",
       " 'Labor force participation rate, total (% of total population ages 15+) (modeled ILO estimate)',\n",
       " 'Labor force participation rate, total (% of total population ages 15+) (national estimate)',\n",
       " 'Labor force participation rate, male (% of male population ages 15+) (modeled ILO estimate)',\n",
       " 'Labor force participation rate, male (% of male population ages 15+) (national estimate)',\n",
       " 'Ratio of female to male labor force participation rate (%) (modeled ILO estimate)',\n",
       " 'Ratio of female to male labor force participation rate (%) (national estimate)',\n",
       " 'Labor force participation rate, female (% of female population ages 15+) (modeled ILO estimate)',\n",
       " 'Labor force participation rate, female (% of female population ages 15+) (national estimate)',\n",
       " 'Labor force participation rate, total (% of total population ages 15-64) (modeled ILO estimate)',\n",
       " 'Labor force participation rate, male (% of male population ages 15-64) (modeled ILO estimate)',\n",
       " 'Labor force participation rate, female (% of female population ages 15-64) (modeled ILO estimate)',\n",
       " 'Labor force participation rate for ages 15-24, total (%) (modeled ILO estimate)',\n",
       " 'Labor force participation rate for ages 15-24, total (%) (national estimate)',\n",
       " 'Labor force participation rate for ages 15-24, male (%) (modeled ILO estimate)',\n",
       " 'Labor force participation rate for ages 15-24, male (%) (national estimate)',\n",
       " 'Labor force participation rate for ages 15-24, female (%) (modeled ILO estimate)',\n",
       " 'Labor force participation rate for ages 15-24, female (%) (national estimate)',\n",
       " 'Employment in services (% of total employment) (modeled ILO estimate)',\n",
       " 'Employment in services, male (% of male employment) (modeled ILO estimate)',\n",
       " 'Employment in services, female (% of female employment) (modeled ILO estimate)',\n",
       " 'Employment in industry (% of total employment) (modeled ILO estimate)',\n",
       " 'Employment in industry, male (% of male employment) (modeled ILO estimate)',\n",
       " 'Employment in industry, female (% of female employment) (modeled ILO estimate)',\n",
       " 'GDP per person employed (constant 2011 PPP $)',\n",
       " 'Contributing family workers, total (% of total employment) (modeled ILO estimate)',\n",
       " 'Contributing family workers, male (% of male employment) (modeled ILO estimate)',\n",
       " 'Contributing family workers, female (% of female employment) (modeled ILO estimate)',\n",
       " 'Wage and salaried workers, total (% of total employment) (modeled ILO estimate)',\n",
       " 'Wage and salaried workers, male (% of male employment) (modeled ILO estimate)',\n",
       " 'Wage and salaried workers, female (% of female employment) (modeled ILO estimate)',\n",
       " 'Vulnerable employment, total (% of total employment) (modeled ILO estimate)',\n",
       " 'Vulnerable employment, male (% of male employment) (modeled ILO estimate)',\n",
       " 'Vulnerable employment, female (% of female employment) (modeled ILO estimate)',\n",
       " 'Employment to population ratio, 15+, total (%) (modeled ILO estimate)',\n",
       " 'Employment to population ratio, 15+, total (%) (national estimate)',\n",
       " 'Employment to population ratio, 15+, male (%) (modeled ILO estimate)',\n",
       " 'Employment to population ratio, 15+, male (%) (national estimate)',\n",
       " 'Employment to population ratio, 15+, female (%) (modeled ILO estimate)',\n",
       " 'Employment to population ratio, 15+, female (%) (national estimate)',\n",
       " 'Self-employed, total (% of total employment) (modeled ILO estimate)',\n",
       " 'Self-employed, male (% of male employment) (modeled ILO estimate)',\n",
       " 'Self-employed, female (% of female employment) (modeled ILO estimate)',\n",
       " 'Employers, total (% of total employment) (modeled ILO estimate)',\n",
       " 'Employers, male (% of male employment) (modeled ILO estimate)',\n",
       " 'Employers, female (% of female employment) (modeled ILO estimate)',\n",
       " 'Employment to population ratio, ages 15-24, total (%) (modeled ILO estimate)',\n",
       " 'Employment to population ratio, ages 15-24, total (%) (national estimate)',\n",
       " 'Employment to population ratio, ages 15-24, male (%) (modeled ILO estimate)',\n",
       " 'Employment to population ratio, ages 15-24, male (%) (national estimate)',\n",
       " 'Employment to population ratio, ages 15-24, female (%) (modeled ILO estimate)',\n",
       " 'Employment to population ratio, ages 15-24, female (%) (national estimate)',\n",
       " 'Employment in agriculture (% of total employment) (modeled ILO estimate)',\n",
       " 'Employment in agriculture, male (% of male employment) (modeled ILO estimate)',\n",
       " 'Employment in agriculture, female (% of female employment) (modeled ILO estimate)',\n",
       " 'Immunization, measles (% of children ages 12-23 months)',\n",
       " 'Immunization, DPT (% of children ages 12-23 months)',\n",
       " 'Mortality rate, neonatal (per 1,000 live births)',\n",
       " 'Mortality rate, under-5 (per 1,000 live births)',\n",
       " 'Number of neonatal deaths',\n",
       " 'Number of under-five deaths',\n",
       " 'Number of infant deaths',\n",
       " 'School enrollment, tertiary, male (% gross)',\n",
       " 'School enrollment, tertiary, female (% gross)',\n",
       " 'School enrollment, tertiary (% gross)',\n",
       " 'Secondary education, general pupils (% female)',\n",
       " 'Secondary education, general pupils',\n",
       " 'Secondary education, duration (years)',\n",
       " 'Lower secondary school starting age (years)',\n",
       " 'Primary education, duration (years)',\n",
       " 'Primary school starting age (years)',\n",
       " 'School enrollment, tertiary (gross), gender parity index (GPI)',\n",
       " 'Real effective exchange rate index (2010 = 100)',\n",
       " 'PPP conversion factor, private consumption (LCU per international $)',\n",
       " 'Price level ratio of PPP conversion factor (GDP) to market exchange rate',\n",
       " 'PPP conversion factor, GDP (LCU per international $)',\n",
       " 'Official exchange rate (LCU per US$, period average)',\n",
       " 'DEC alternative conversion factor (LCU per US$)',\n",
       " 'Terms of trade adjustment (constant LCU)',\n",
       " 'Taxes less subsidies on products (constant LCU)',\n",
       " 'Taxes less subsidies on products (current LCU)',\n",
       " 'Taxes less subsidies on products (current US$)',\n",
       " 'Net primary income (Net income from abroad) (current LCU)',\n",
       " 'Grants and other revenue (% of revenue)',\n",
       " 'Grants and other revenue (current LCU)',\n",
       " 'Net lending (+) / net borrowing (-) (% of GDP)',\n",
       " 'Net lending (+) / net borrowing (-) (current LCU)',\n",
       " 'Net incurrence of liabilities, total (% of GDP)',\n",
       " 'Net incurrence of liabilities, total (current LCU)',\n",
       " 'Net acquisition of financial assets (% of GDP)',\n",
       " 'Net acquisition of financial assets (current LCU)',\n",
       " 'Domestic credit to private sector (% of GDP)',\n",
       " 'Domestic credit provided by financial sector (% of GDP)',\n",
       " 'Claims on central government, etc. (% GDP)',\n",
       " 'Inflation, consumer prices (annual %)',\n",
       " 'Consumer price index (2010 = 100)',\n",
       " 'Broad money growth (annual %)',\n",
       " 'Broad money to total reserves ratio',\n",
       " 'Broad money (% of GDP)',\n",
       " 'Broad money (current LCU)',\n",
       " 'Claims on private sector (annual growth as % of broad money)',\n",
       " 'Net foreign assets (current LCU)',\n",
       " 'Net domestic credit (current LCU)',\n",
       " 'Claims on central government (annual growth as % of broad money)',\n",
       " 'Total reserves minus gold (current US$)',\n",
       " 'Total reserves in months of imports',\n",
       " 'Total reserves (includes gold, current US$)',\n",
       " 'Domestic credit to private sector by banks (% of GDP)',\n",
       " 'Population in urban agglomerations of more than 1 million (% of total population)',\n",
       " 'Population in urban agglomerations of more than 1 million',\n",
       " 'Population in the largest city (% of urban population)',\n",
       " 'Population in largest city',\n",
       " 'Population density (people per sq. km of land area)',\n",
       " 'Access to electricity (% of population)',\n",
       " 'Access to electricity, urban (% of urban population)',\n",
       " 'Access to electricity, rural (% of rural population)',\n",
       " 'S&P Global Equity Indices (annual % change)',\n",
       " 'Personal remittances, received (% of GDP)',\n",
       " 'Personal remittances, received (current US$)',\n",
       " 'Secondary income receipts (BoP, current US$)',\n",
       " 'Portfolio equity, net inflows (BoP, current US$)',\n",
       " 'Foreign direct investment, net inflows (% of GDP)',\n",
       " 'Foreign direct investment, net inflows (BoP, current US$)',\n",
       " 'Travel services (% of service exports, BoP)',\n",
       " 'Transport services (% of service exports, BoP)',\n",
       " 'Exports of goods, services and primary income (BoP, current US$)',\n",
       " 'Charges for the use of intellectual property, receipts (BoP, current US$)',\n",
       " 'Service exports (BoP, current US$)',\n",
       " 'Goods exports (BoP, current US$)',\n",
       " 'Insurance and financial services (% of service exports, BoP)',\n",
       " 'Exports of goods and services (BoP, current US$)',\n",
       " 'Primary income receipts (BoP, current US$)',\n",
       " 'Communications, computer, etc. (% of service exports, BoP)',\n",
       " 'ICT service exports (% of service exports, BoP)',\n",
       " 'ICT service exports (BoP, current US$)',\n",
       " 'Net capital account (BoP, current US$)',\n",
       " 'Net secondary income (BoP, current US$)',\n",
       " 'Reserves and related items (BoP, current US$)',\n",
       " 'Portfolio investment, net (BoP, current US$)',\n",
       " 'Foreign direct investment, net (BoP, current US$)',\n",
       " 'Net errors and omissions (BoP, current US$)',\n",
       " 'Net trade in goods (BoP, current US$)',\n",
       " 'Net trade in goods and services (BoP, current US$)',\n",
       " 'Net primary income (BoP, current US$)',\n",
       " 'Net financial account (BoP, current US$)',\n",
       " 'Current account balance (% of GDP)',\n",
       " 'Current account balance (BoP, current US$)',\n",
       " 'Personal remittances, paid (current US$)',\n",
       " 'Secondary income, other sectors, payments (BoP, current US$)',\n",
       " 'Foreign direct investment, net outflows (% of GDP)',\n",
       " 'Foreign direct investment, net outflows (BoP, current US$)',\n",
       " 'Travel services (% of service imports, BoP)',\n",
       " 'Transport services (% of service imports, BoP)',\n",
       " 'Imports of goods, services and primary income (BoP, current US$)',\n",
       " 'Charges for the use of intellectual property, payments (BoP, current US$)',\n",
       " 'Service imports (BoP, current US$)',\n",
       " 'Goods imports (BoP, current US$)',\n",
       " 'Insurance and financial services (% of service imports, BoP)',\n",
       " 'Imports of goods and services (BoP, current US$)',\n",
       " 'Primary income payments (BoP, current US$)',\n",
       " 'Communications, computer, etc. (% of service imports, BoP)',\n",
       " 'Trade in services (% of GDP)',\n",
       " 'Cereal yield (kg per hectare)',\n",
       " 'Surface area (sq. km)',\n",
       " 'Cereal production (metric tons)',\n",
       " 'Land area (sq. km)',\n",
       " 'Land under cereal production (hectares)',\n",
       " 'Net primary income (Net income from abroad) (current US$)',\n",
       " 'Gross savings (% of GDP)',\n",
       " 'Gross savings (% of GNI)',\n",
       " 'Gross savings (current LCU)',\n",
       " 'Gross savings (current US$)',\n",
       " 'GNI per capita, PPP (constant 2011 international $)',\n",
       " 'GNI per capita, PPP (current international $)',\n",
       " 'GNI per capita (constant LCU)',\n",
       " 'GNI per capita growth (annual %)',\n",
       " 'GNI per capita (constant 2010 US$)',\n",
       " 'GNI per capita (current LCU)',\n",
       " 'GNI per capita, Atlas method (current US$)',\n",
       " 'GNI, PPP (constant 2011 international $)',\n",
       " 'GNI, PPP (current international $)',\n",
       " 'GNI (constant LCU)',\n",
       " 'GNI growth (annual %)',\n",
       " 'GNI (constant 2010 US$)',\n",
       " 'GNI (current LCU)',\n",
       " 'GNI (current US$)',\n",
       " 'GNI, Atlas method (current US$)',\n",
       " 'Gross domestic income (constant LCU)',\n",
       " 'Gross domestic savings (% of GDP)',\n",
       " 'Gross domestic savings (current LCU)',\n",
       " 'Gross domestic savings (current US$)',\n",
       " 'Total natural resources rents (% of GDP)',\n",
       " 'Oil rents (% of GDP)',\n",
       " 'GDP per capita, PPP (constant 2011 international $)',\n",
       " 'GDP per capita, PPP (current international $)',\n",
       " 'GDP per capita (constant LCU)',\n",
       " 'GDP per capita growth (annual %)',\n",
       " 'GDP per capita (constant 2010 US$)',\n",
       " 'GDP per capita (current LCU)',\n",
       " 'GDP per capita (current US$)',\n",
       " 'Natural gas rents (% of GDP)',\n",
       " 'GDP, PPP (constant 2011 international $)',\n",
       " 'GDP, PPP (current international $)',\n",
       " 'GDP (constant LCU)',\n",
       " 'GDP growth (annual %)',\n",
       " 'GDP (constant 2010 US$)',\n",
       " 'GDP: linked series (current LCU)',\n",
       " 'GDP (current LCU)',\n",
       " 'GDP (current US$)',\n",
       " 'Mineral rents (% of GDP)',\n",
       " 'Forest rents (% of GDP)',\n",
       " 'Gross value added at basic prices (GVA) (constant LCU)',\n",
       " 'Gross value added at basic prices (GVA) (constant 2010 US$)',\n",
       " 'Gross value added at basic prices (GVA) (current LCU)',\n",
       " 'Gross value added at basic prices (GVA) (current US$)',\n",
       " 'Discrepancy in expenditure estimate of GDP (constant LCU)',\n",
       " 'Discrepancy in expenditure estimate of GDP (current LCU)',\n",
       " 'GDP deflator: linked series (base year varies by country)',\n",
       " 'GDP deflator (base year varies by country)',\n",
       " 'Inflation, GDP deflator: linked series (annual %)',\n",
       " 'Inflation, GDP deflator (annual %)',\n",
       " 'Coal rents (% of GDP)',\n",
       " 'Exports as a capacity to import (constant LCU)',\n",
       " 'Agriculture, forestry, and fishing, value added (% of GDP)',\n",
       " 'Agriculture, forestry, and fishing, value added (constant LCU)',\n",
       " 'Agriculture, forestry, and fishing, value added (annual % growth)',\n",
       " 'Agriculture, forestry, and fishing, value added (constant 2010 US$)',\n",
       " 'Agriculture, forestry, and fishing, value added (current LCU)',\n",
       " 'Agriculture, forestry, and fishing, value added (current US$)',\n",
       " 'Agriculture, forestry, and fishing, value added per worker (constant 2010 US$)',\n",
       " 'Trade (% of GDP)',\n",
       " 'External balance on goods and services (% of GDP)',\n",
       " 'External balance on goods and services (constant LCU)',\n",
       " 'External balance on goods and services (current LCU)',\n",
       " 'External balance on goods and services (current US$)',\n",
       " 'Imports of goods and services (% of GDP)',\n",
       " 'Imports of goods and services (constant LCU)',\n",
       " 'Imports of goods and services (annual % growth)',\n",
       " 'Imports of goods and services (constant 2010 US$)',\n",
       " 'Imports of goods and services (current LCU)',\n",
       " 'Imports of goods and services (current US$)',\n",
       " 'Gross capital formation (% of GDP)',\n",
       " 'Gross capital formation (constant LCU)',\n",
       " 'Gross capital formation (annual % growth)',\n",
       " 'Gross capital formation (constant 2010 US$)',\n",
       " 'Gross capital formation (current LCU)',\n",
       " 'Gross capital formation (current US$)',\n",
       " 'Changes in inventories (current LCU)',\n",
       " 'Changes in inventories (current US$)',\n",
       " 'Gross fixed capital formation (% of GDP)',\n",
       " 'Gross fixed capital formation (constant LCU)',\n",
       " 'Gross fixed capital formation (annual % growth)',\n",
       " 'Gross fixed capital formation (constant 2010 US$)',\n",
       " 'Gross fixed capital formation (current LCU)',\n",
       " 'Gross fixed capital formation (current US$)',\n",
       " 'Exports of goods and services (% of GDP)',\n",
       " 'Exports of goods and services (constant LCU)',\n",
       " 'Exports of goods and services (annual % growth)',\n",
       " 'Exports of goods and services (constant 2010 US$)',\n",
       " 'Exports of goods and services (current LCU)',\n",
       " 'Exports of goods and services (current US$)',\n",
       " 'Gross national expenditure (% of GDP)',\n",
       " 'Gross national expenditure (constant LCU)',\n",
       " 'Gross national expenditure (constant 2010 US$)',\n",
       " 'Gross national expenditure (current LCU)',\n",
       " 'Gross national expenditure (current US$)',\n",
       " 'Gross national expenditure deflator (base year varies by country)',\n",
       " 'Final consumption expenditure (% of GDP)',\n",
       " 'Final consumption expenditure (constant LCU)',\n",
       " 'Final consumption expenditure (annual % growth)',\n",
       " 'Final consumption expenditure (constant 2010 US$)',\n",
       " 'Final consumption expenditure (current LCU)',\n",
       " 'Final consumption expenditure (current US$)',\n",
       " 'Households and NPISHs final consumption expenditure (% of GDP)',\n",
       " 'Households and NPISHs Final consumption expenditure, PPP (constant 2011 international $)',\n",
       " 'Households and NPISHs Final consumption expenditure, PPP (current international $)',\n",
       " 'Households and NPISHs Final consumption expenditure per capita growth (annual %)',\n",
       " 'Households and NPISHs Final consumption expenditure per capita (constant 2010 US$)',\n",
       " 'Households and NPISHs Final consumption expenditure (constant LCU)',\n",
       " 'Households and NPISHs Final consumption expenditure (annual % growth)',\n",
       " 'Households and NPISHs Final consumption expenditure (constant 2010 US$)',\n",
       " 'Households and NPISHs Final consumption expenditure (current LCU)',\n",
       " 'Households and NPISHs Final consumption expenditure (current US$)',\n",
       " 'General government final consumption expenditure (% of GDP)',\n",
       " 'General government final consumption expenditure (constant LCU)',\n",
       " 'General government final consumption expenditure (annual % growth)',\n",
       " 'General government final consumption expenditure (constant 2010 US$)',\n",
       " 'General government final consumption expenditure (current LCU)',\n",
       " 'General government final consumption expenditure (current US$)',\n",
       " 'Arms exports (SIPRI trend indicator values)',\n",
       " 'Military expenditure (% of general government expenditure)',\n",
       " 'Military expenditure (% of GDP)',\n",
       " 'Military expenditure (current LCU)',\n",
       " 'Military expenditure (current USD)',\n",
       " 'Armed forces personnel (% of total labor force)',\n",
       " 'Armed forces personnel, total',\n",
       " 'Arms imports (SIPRI trend indicator values)',\n",
       " 'Individuals using the Internet (% of population)',\n",
       " 'Fixed telephone subscriptions (per 100 people)',\n",
       " 'Fixed telephone subscriptions',\n",
       " 'Mobile cellular subscriptions (per 100 people)',\n",
       " 'Mobile cellular subscriptions',\n",
       " 'Rail lines (total route-km)',\n",
       " 'Air transport, passengers carried',\n",
       " 'Air transport, freight (million ton-km)',\n",
       " 'Air transport, registered carrier departures worldwide',\n",
       " 'Trademark applications, total',\n",
       " 'Trademark applications, direct resident',\n",
       " 'Trademark applications, direct nonresident',\n",
       " 'Patent applications, residents',\n",
       " 'Patent applications, nonresidents',\n",
       " 'Subsidies and other transfers (% of expense)',\n",
       " 'Subsidies and other transfers (current LCU)',\n",
       " 'Expense (% of GDP)',\n",
       " 'Expense (current LCU)',\n",
       " 'Other expense (% of expense)',\n",
       " 'Other expense (current LCU)',\n",
       " 'Interest payments (% of expense)',\n",
       " 'Interest payments (% of revenue)',\n",
       " 'Interest payments (current LCU)',\n",
       " 'Goods and services expense (% of expense)',\n",
       " 'Goods and services expense (current LCU)',\n",
       " 'Compensation of employees (% of expense)',\n",
       " 'Compensation of employees (current LCU)',\n",
       " 'Taxes on income, profits and capital gains (% of total taxes)',\n",
       " 'Taxes on income, profits and capital gains (% of revenue)',\n",
       " 'Taxes on income, profits and capital gains (current LCU)',\n",
       " 'Tax revenue (% of GDP)',\n",
       " 'Tax revenue (current LCU)',\n",
       " 'Other taxes (% of revenue)',\n",
       " 'Other taxes (current LCU)',\n",
       " 'Taxes on goods and services (% value added of industry and services)',\n",
       " 'Taxes on goods and services (% of revenue)',\n",
       " 'Taxes on goods and services (current LCU)',\n",
       " 'Revenue, excluding grants (% of GDP)',\n",
       " 'Revenue, excluding grants (current LCU)',\n",
       " 'Social contributions (% of revenue)',\n",
       " 'Social contributions (current LCU)']"
      ]
     },
     "execution_count": 44,
     "metadata": {},
     "output_type": "execute_result"
    }
   ],
   "source": [
    "list(macro_data['Indicator Name'])"
   ]
  },
  {
   "cell_type": "markdown",
   "metadata": {},
   "source": [
    "### 3.1 Tom explores using an API just the for the sake of using an API"
   ]
  },
  {
   "cell_type": "code",
   "execution_count": 2,
   "metadata": {},
   "outputs": [],
   "source": [
    "import requests\n",
    "import json"
   ]
  },
  {
   "cell_type": "code",
   "execution_count": 3,
   "metadata": {},
   "outputs": [],
   "source": [
    "url = 'http://landregistry.data.gov.uk/data/ukhpi/region/england-and-wales'"
   ]
  },
  {
   "cell_type": "code",
   "execution_count": 4,
   "metadata": {
    "collapsed": true,
    "jupyter": {
     "outputs_hidden": true
    }
   },
   "outputs": [
    {
     "data": {
      "text/plain": [
       "'<!DOCTYPE html><html>\\n   <head>\\n      <meta http-equiv=\"Content-Type\" content=\"text/html; charset=utf-8\">\\n      <title>Search Results</title>\\n      <link rel=\"shortcut icon\" href=\"/lda-assets/images/datagovuk_favicon.png\" type=\"image/x-icon\">\\n      <link rel=\"start\" href=\"https://landregistry.data.gov.uk/data/ukhpi/region/england-and-wales.html?_page=0\">\\n      <link rel=\"next\" href=\"https://landregistry.data.gov.uk/data/ukhpi/region/england-and-wales.html?_page=1\">\\n      <link rel=\"alternate\" href=\"https://landregistry.data.gov.uk/data/ukhpi/region/england-and-wales.csv\" type=\"text/csv\">\\n      <link rel=\"alternate\" href=\"https://landregistry.data.gov.uk/data/ukhpi/region/england-and-wales.json\" type=\"application/json\">\\n      <link rel=\"alternate\" href=\"https://landregistry.data.gov.uk/data/ukhpi/region/england-and-wales.rdf\" type=\"application/rdf+xml\">\\n      <link rel=\"alternate\" href=\"https://landregistry.data.gov.uk/data/ukhpi/region/england-and-wales.text\" type=\"text/plain\">\\n      <link rel=\"alternate\" href=\"https://landregistry.data.gov.uk/data/ukhpi/region/england-and-wales.ttl\" type=\"text/turtle\">\\n      <link rel=\"alternate\" href=\"https://landregistry.data.gov.uk/data/ukhpi/region/england-and-wales.xml\" type=\"application/xml\">\\n      <!--[if lt IE 9]><script src=\"http://html5shiv.googlecode.com/svn/trunk/html5.js\"></script><![endif]--><script type=\"text/javascript\" src=\"/lda-assets/scripts/jquery.min.js\"></script><script type=\"text/javascript\" src=\"/lda-assets/scripts/jquery-ui.min.js\"></script><script type=\"text/javascript\" src=\"/lda-assets/scripts/jquery.sparkline.js\"></script><script type=\"text/javascript\" src=\"/lda-assets/scripts/codemirror/codemirror_min.js\"></script><script type=\"text/javascript\">\\n\\t\\t$(function() {\\n\\t\\t\\t$(\\'.info img\\')\\n\\t\\t\\t\\t.toggle(function () {\\n\\t\\t\\t\\t\\t$(this)\\n\\t\\t\\t\\t\\t\\t.attr(\\'src\\', \\'/lda-assets/images/green/16x16/Cancel.png\\')\\n\\t\\t\\t\\t\\t\\t.next().show();\\n\\t\\t\\t\\t}, function () {\\n\\t\\t\\t\\t\\t$(this)\\n\\t\\t\\t\\t\\t\\t.attr(\\'src\\', \\'/lda-assets/images/green/16x16/Question.png\\')\\n\\t\\t\\t\\t\\t\\t.next().fadeOut(\\'slow\\');\\n\\t\\t\\t\\t});\\n\\t\\t\\t\\n\\t\\t\\t$(\\'input[type=date]\\').datepicker({\\n\\t\\t\\t\\tchangeMonth: true,\\n\\t\\t\\t\\tchangeYear: true,\\n\\t\\t\\t\\tdateFormat: \\'yy-mm-dd\\',\\n\\t\\t\\t\\tautoSize: true\\n\\t\\t\\t});\\n\\t\\t\\t\\n\\t\\t\\t$(\\'#search\\').hide();\\n\\t\\t\\t\\n\\t\\t\\t$(\\'#openSearch\\')\\n\\t\\t\\t\\t.toggle(function () {\\n\\t\\t\\t\\t\\t$(this).text(\\'Hide Search Form\\');\\n\\t\\t\\t\\t\\t$(\\'#search\\').slideDown(\\'slow\\');\\n\\t\\t\\t\\t}, function () {\\n\\t\\t\\t\\t\\t$(this).text(\\'Show Search Form\\');\\n\\t\\t\\t\\t\\t$(\\'#search\\').slideUp(\\'slow\\');\\n\\t\\t\\t\\t});\\n\\t\\t\\t\\n\\t\\t\\t$(\\'.provenance textarea\\')\\n\\t\\t\\t\\t.each(function () {\\n\\t\\t\\t\\t\\tvar skipLines = parseFloat($(this).attr(\\'data-skip-lines\\'), 10);\\n\\t\\t\\t\\t\\tvar lineHeight = parseFloat($(this).css(\\'line-height\\'), 10);\\n\\t\\t\\t\\t\\t$(this).scrollTop(skipLines * lineHeight);\\n\\t\\t\\t\\t\\tvar cm = CodeMirror.fromTextArea(this, {\\n\\t\\t\\t\\t\\t\\tbasefiles: [\"/lda-assets/scripts/codemirror/codemirror_base_sparql.js\"],\\n\\t\\t\\t\\t\\t\\tstylesheet: \"/lda-assets/css/sparql.css\",\\n\\t\\t\\t\\t\\t\\ttextWrapping: false\\n\\t\\t\\t\\t\\t});\\n\\t\\t\\t\\t\\t$(cm.frame).load(function () {\\n\\t\\t\\t\\t\\t\\tcm.jumpToLine(skipLines + 1);\\n\\t\\t\\t\\t\\t\\t$(cm.frame)\\n\\t\\t\\t\\t\\t\\t\\t.css(\\'border\\', \\t\\'1px solid #D3D3D3\\')\\n\\t\\t\\t\\t\\t\\t\\t.css(\\'border-radius\\', \\'5px\\')\\n\\t\\t\\t\\t\\t\\t\\t.css(\\'-moz-border-radius\\', \\'5px\\');\\n\\t\\t\\t\\t\\t});\\n\\t\\t\\t\\t});\\n\\t\\t\\t\\n\\t\\t\\t\\n\\t\\t});\\n\\t</script><link rel=\"stylesheet\" href=\"/lda-assets/css/html5reset-1.6.1.css\" type=\"text/css\">\\n      <link rel=\"stylesheet\" href=\"/lda-assets/css/jquery-ui.css\" type=\"text/css\">\\n      <link rel=\"stylesheet\" href=\"/lda-assets/css/smoothness/jquery-ui.css\" type=\"text/css\">\\n      <link rel=\"stylesheet\" href=\"/lda-assets/css/result.css\" type=\"text/css\">\\n      <!--[if lt IE 9]><link rel=\"stylesheet\" href=\"/lda-assets/css/ie.css\" type=\"text/css\"></link><![endif]--><script type=\"text/javascript\" src=\"/lda-assets/scripts/staging.js\"></script></head>\\n   <body>\\n      <div id=\"page\">\\n         <nav class=\"site\">\\n            <section class=\"formats\">\\n               <ul>\\n                  <li class=\"first\"><a href=\"https://landregistry.data.gov.uk/data/ukhpi/region/england-and-wales.csv\" type=\"text/csv\" rel=\"alternate\" title=\"view in csv format\">csv</a></li>\\n                  <li><a href=\"https://landregistry.data.gov.uk/data/ukhpi/region/england-and-wales.html\" type=\"text/html\" rel=\"alternate\" title=\"view in html format\">html</a></li>\\n                  <li><a href=\"https://landregistry.data.gov.uk/data/ukhpi/region/england-and-wales.json\" type=\"application/json\" rel=\"alternate\" title=\"view in json format\">json</a></li>\\n                  <li><a href=\"https://landregistry.data.gov.uk/data/ukhpi/region/england-and-wales.rdf\" type=\"application/rdf+xml\" rel=\"alternate\" title=\"view in rdf format\">rdf</a></li>\\n                  <li><a href=\"https://landregistry.data.gov.uk/data/ukhpi/region/england-and-wales.text\" type=\"text/plain\" rel=\"alternate\" title=\"view in text format\">text</a></li>\\n                  <li><a href=\"https://landregistry.data.gov.uk/data/ukhpi/region/england-and-wales.ttl\" type=\"text/turtle\" rel=\"alternate\" title=\"view in ttl format\">ttl</a></li>\\n                  <li class=\"last\"><a href=\"https://landregistry.data.gov.uk/data/ukhpi/region/england-and-wales.xml\" type=\"application/xml\" rel=\"alternate\" title=\"view in xml format\">xml</a></li>\\n               </ul>\\n            </section>\\n         </nav>\\n         <header>\\n            <h1><a href=\"/\">Linked Data API</a></h1>\\n         </header>\\n         <nav class=\"topnav\"><script type=\"text/javascript\">\\n\\t\\t\\t\\tfunction initMap() {\\n\\t\\t\\t\\t\\treturn null;\\n\\t\\t\\t\\t};\\n\\t\\t\\t</script><section class=\"summary\">\\n               <h1>On This Page</h1>\\n               <div class=\"info\"><img class=\"open\" src=\"/lda-assets/images/green/16x16/Question.png\" alt=\"help\"><p>Links to the items within this page, and to the previous and/or next pages of results.</p>\\n               </div>\\n               <ul>\\n                  <li class=\"resultcount\">Results 1 to 10 of 302</li>\\n               </ul>\\n               <ul>\\n                  <li><a href=\"#w10052854aab9a\" title=\"jump to item on this page\">2020-02</a></li>\\n                  <li><a href=\"#w10052854aab9b1\" title=\"jump to item on this page\">2020-01</a></li>\\n                  <li><a href=\"#w10052854aab9b2\" title=\"jump to item on this page\">2019-12</a></li>\\n                  <li><a href=\"#w10052854aab9b3\" title=\"jump to item on this page\">2019-11</a></li>\\n                  <li><a href=\"#w10052854aab9b4\" title=\"jump to item on this page\">2019-10</a></li>\\n                  <li><a href=\"#w10052854aab9b5\" title=\"jump to item on this page\">2019-09</a></li>\\n                  <li><a href=\"#w10052854aab9b6\" title=\"jump to item on this page\">2019-08</a></li>\\n                  <li><a href=\"#w10052854aab9b7\" title=\"jump to item on this page\">2019-07</a></li>\\n                  <li><a href=\"#w10052854aab9b8\" title=\"jump to item on this page\">2019-06</a></li>\\n                  <li><a href=\"#w10052854aab9b9\" title=\"jump to item on this page\">2019-05</a></li>\\n                  <li><a href=\"https://landregistry.data.gov.uk/data/ukhpi/region/england-and-wales.html?_page=1\" title=\"go to next page\">next ›</a></li>\\n               </ul>\\n            </section>\\n            <section class=\"sort\">\\n               <h1>Sort by</h1>\\n               <div class=\"info\"><img class=\"open\" src=\"/lda-assets/images/green/16x16/Question.png\" alt=\"help\"><p>This list shows the properties that you can sort by. Click on <img src=\"/lda-assets/images/grey/16x16/Arrow3%20Up.png\" alt=\"sort in ascending order\"> to sort in ascending order and <img src=\"/lda-assets/images/grey/16x16/Arrow3%20Down.png\" alt=\"sort in descending order\"> to sort in descending order. The properties that you\\'re currently sorting by are\\n                     shown at the top of the list. Click on <img src=\"/lda-assets/images/green/16x16/Cancel.png\" alt=\"remove this sort\"> to remove a sort and <img src=\"/lda-assets/images/green/16x16/Arrow3%20Up.png\" alt=\"sort in descending order\"> or <img src=\"/lda-assets/images/green/16x16/Arrow3%20Down.png\" alt=\"sort in ascending order\"> to reverse the current sort order. Click on the <img src=\"/lda-assets/images/green/16x16/Back.png\" alt=\"remove all sorting\"> icon to remove all the sorting. Note that sorting can significantly slow down the\\n                     loading of the page.\\n                  </p>\\n               </div>\\n               <ul></ul>\\n            </section>\\n            <section class=\"view\">\\n               <h1>View</h1>\\n               <div class=\"info\"><img class=\"open\" src=\"/lda-assets/images/green/16x16/Question.png\" alt=\"help\"><p>Choose what information you want to view about each item. There are some pre-defined\\n                     views, but starred properties are always present no matter what the view. You can\\n                     star properties by clicking on the <img src=\"/lda-assets/images/grey/16x16/Star.png\" alt=\"star this property\"> icon. The currently starred icons have a <img src=\"/lda-assets/images/green/16x16/Star.png\" alt=\"unstar this property\"> icon; clicking on it will unstar the property.\\n                  </p>\\n               </div>\\n               <ul>\\n                  <li><a href=\"https://landregistry.data.gov.uk/data/ukhpi/region/england-and-wales.html?_page=0&amp;_view=all\" title=\"switch to all view\">all</a></li>\\n                  <li><a href=\"https://landregistry.data.gov.uk/data/ukhpi/region/england-and-wales.html?_page=0&amp;_view=basic\" title=\"switch to basic view\">basic</a></li>\\n                  <li><a href=\"https://landregistry.data.gov.uk/data/ukhpi/region/england-and-wales.html?_page=0&amp;_view=description\" title=\"switch to description view\">description</a></li>\\n                  <li><a href=\"https://landregistry.data.gov.uk/data/ukhpi/region/england-and-wales.html?_page=0&amp;_view=detail\" title=\"switch to detail view\">detail</a></li>\\n                  <li><a href=\"https://landregistry.data.gov.uk/data/ukhpi/region/england-and-wales.html?_page=0&amp;_view=labeledDescribeViewer\" title=\"switch to labeledDescribeViewer view\">labeledDescribeViewer</a></li>\\n                  <li><a href=\"https://landregistry.data.gov.uk/data/ukhpi/region/england-and-wales.html?_page=0&amp;_view=none\" title=\"switch to none view\">none</a></li>\\n               </ul>\\n               <ul class=\"properties\"></ul>\\n            </section>\\n            <section class=\"size\">\\n               <h1>Items per page</h1>\\n               <div class=\"info\"><img class=\"open\" src=\"/lda-assets/images/green/16x16/Question.png\" alt=\"help\"><p>Choose how many items to view on each page. The more items you view, the longer the\\n                     page will take to load.\\n                  </p>\\n               </div>\\n               <ul>\\n                  <li><span class=\"current\">10</span></li>\\n                  <li><a rel=\"nofollow\" title=\"view 25 items per page\" href=\"https://landregistry.data.gov.uk/data/ukhpi/region/england-and-wales.html?_page=0&amp;_pageSize=25\">25</a></li>\\n                  <li><a rel=\"nofollow\" title=\"view 50 items per page\" href=\"https://landregistry.data.gov.uk/data/ukhpi/region/england-and-wales.html?_page=0&amp;_pageSize=50\">50</a></li>\\n               </ul>\\n            </section>\\n         </nav>\\n         <div id=\"result\">\\n            <div class=\"panel\">\\n               <header>\\n                  <p id=\"openSearch\">Show Search Form</p>\\n                  <h1>Search Results</h1>\\n               </header>\\n               <section id=\"search\" style=\"display: none\">\\n                  <form action=\"https://landregistry.data.gov.uk/data/ukhpi/region/england-and-wales.html?_page=0\"><input name=\"_page\" value=\"0\" type=\"hidden\"><table>\\n                        <colgroup>\\n                           <col class=\"labelWidth\">\\n                           <col class=\"valueWidth\">\\n                        </colgroup>\\n                        <tr>\\n                           <td></td>\\n                           <td></td>\\n                        </tr>\\n                     </table>\\n                     <p><button type=\"submit\">Search</button></p>\\n                  </form>\\n               </section>\\n               <section>\\n                  <table id=\"w10052854aab9a\">\\n                     <caption><a href=\"http://landregistry.data.gov.uk/data/ukhpi/region/england-and-wales/month/2020-02\">2020-02</a></caption>\\n                  </table>\\n               </section>\\n               <section>\\n                  <table id=\"w10052854aab9b1\">\\n                     <caption><a href=\"http://landregistry.data.gov.uk/data/ukhpi/region/england-and-wales/month/2020-01\">2020-01</a></caption>\\n                  </table>\\n               </section>\\n               <section>\\n                  <table id=\"w10052854aab9b2\">\\n                     <caption><a href=\"http://landregistry.data.gov.uk/data/ukhpi/region/england-and-wales/month/2019-12\">2019-12</a></caption>\\n                  </table>\\n               </section>\\n               <section>\\n                  <table id=\"w10052854aab9b3\">\\n                     <caption><a href=\"http://landregistry.data.gov.uk/data/ukhpi/region/england-and-wales/month/2019-11\">2019-11</a></caption>\\n                  </table>\\n               </section>\\n               <section>\\n                  <table id=\"w10052854aab9b4\">\\n                     <caption><a href=\"http://landregistry.data.gov.uk/data/ukhpi/region/england-and-wales/month/2019-10\">2019-10</a></caption>\\n                  </table>\\n               </section>\\n               <section>\\n                  <table id=\"w10052854aab9b5\">\\n                     <caption><a href=\"http://landregistry.data.gov.uk/data/ukhpi/region/england-and-wales/month/2019-09\">2019-09</a></caption>\\n                  </table>\\n               </section>\\n               <section>\\n                  <table id=\"w10052854aab9b6\">\\n                     <caption><a href=\"http://landregistry.data.gov.uk/data/ukhpi/region/england-and-wales/month/2019-08\">2019-08</a></caption>\\n                  </table>\\n               </section>\\n               <section>\\n                  <table id=\"w10052854aab9b7\">\\n                     <caption><a href=\"http://landregistry.data.gov.uk/data/ukhpi/region/england-and-wales/month/2019-07\">2019-07</a></caption>\\n                  </table>\\n               </section>\\n               <section>\\n                  <table id=\"w10052854aab9b8\">\\n                     <caption><a href=\"http://landregistry.data.gov.uk/data/ukhpi/region/england-and-wales/month/2019-06\">2019-06</a></caption>\\n                  </table>\\n               </section>\\n               <section>\\n                  <table id=\"w10052854aab9b9\">\\n                     <caption><a href=\"http://landregistry.data.gov.uk/data/ukhpi/region/england-and-wales/month/2019-05\">2019-05</a></caption>\\n                  </table>\\n               </section>\\n            </div>\\n         </div>\\n         <nav class=\"bottomnav\">\\n            <section class=\"page\">\\n               <ul>\\n                  <li><a href=\"https://landregistry.data.gov.uk/data/ukhpi/region/england-and-wales.html?_page=0\" title=\"go to first page\">« first</a></li>\\n                  <li><a href=\"https://landregistry.data.gov.uk/data/ukhpi/region/england-and-wales.html?_page=1\" title=\"go to next page\">next ›</a></li>\\n               </ul>\\n            </section>\\n         </nav>\\n         <footer>\\n            <div class=\"provenance\">\\n               <div class=\" query col1\">\\n                  <h2>Selection</h2>\\n                  <p>This is the SPARQL query that was generated to identify the items to be shown in the page. You can modify it here and re-run the query but you may find more options at the\\n                     <a href=\"http://landregistry.data.gov.uk/landregistry/sparql/sparql.html\">endpoint\\'s page</a>.\\n                  </p>\\n                  <form action=\"http://landregistry.data.gov.uk/landregistry/sparql\" method=\"post\"><textarea name=\"query\" wrap=\"soft\" data-skip-lines=\"0\"># Counting has been applied to this query.\\nPREFIX def-ukhpi: &lt;http://landregistry.data.gov.uk/def/ukhpi/&gt;\\nPREFIX rdf: &lt;http://www.w3.org/1999/02/22-rdf-syntax-ns#&gt;\\nSELECT DISTINCT ?item\\nWHERE {\\n?item def-ukhpi:refRegion &lt;http://landregistry.data.gov.uk/id/region/england-and-wales&gt; .\\n?item rdf:type def-ukhpi:MonthlyIndicesByRegion .\\nOPTIONAL { ?item def-ukhpi:refMonth ?___0 . }\\n}  ORDER BY  DESC(?___0)  ?item OFFSET 0 LIMIT 10</textarea><p><button type=\"submit\">Run Query</button></p>\\n                  </form>\\n               </div>\\n               <div class=\" query col2\">\\n                  <h2>Viewer</h2>\\n                  <p>This is the SPARQL query that was generated to pull together the data that is provided about each item. You can modify it here and re-run the query but you may find more options at the\\n                     <a href=\"http://landregistry.data.gov.uk/landregistry/sparql/sparql.html\">endpoint\\'s page</a>.\\n                  </p>\\n                  <form action=\"http://landregistry.data.gov.uk/landregistry/sparql\" method=\"post\"><textarea name=\"query\" wrap=\"soft\" data-skip-lines=\"1\"># no property chains present.</textarea><p><button type=\"submit\">Run Query</button></p>\\n                  </form>\\n               </div>\\n            </div>\\n            <p>Powered by <a href=\"https://github.com/epimorphics/elda\">Elda 2.0.0</a>, an implementation of the <a href=\"http://code.google.com/p/linked-data-api\">Linked Data API</a><br><a href=\"http://www.axialis.com/free/icons\">Icons</a> by <a href=\"http://www.axialis.com\">Axialis Team</a></p>\\n         </footer>\\n      </div><script type=\"text/javascript\">\\n  var _gaq = _gaq || [];\\n  _gaq.push([\\'_setAccount\\', \\'UA-21165003-6\\']);\\n  _gaq.push([\\'_trackPageview\\']);\\n  (function() {\\n    var ga = document.createElement(\\'script\\'); ga.type = \\'text/javascript\\'; ga.async = true;\\n    ga.src = (\\'https:\\' == document.location.protocol ? \\'https://ssl\\' : \\'http://www\\') + \\'.google-analytics.com/ga.js\\';\\n    var s = document.getElementsByTagName(\\'script\\')[0]; s.parentNode.insertBefore(ga, s);\\n  })();\\n</script></body>\\n</html>'"
      ]
     },
     "execution_count": 4,
     "metadata": {},
     "output_type": "execute_result"
    }
   ],
   "source": [
    "request = requests.get(url)\n",
    "request.text"
   ]
  },
  {
   "cell_type": "code",
   "execution_count": null,
   "metadata": {},
   "outputs": [],
   "source": []
  }
 ],
 "metadata": {
  "kernelspec": {
   "display_name": "Python 3",
   "language": "python",
   "name": "python3"
  },
  "language_info": {
   "codemirror_mode": {
    "name": "ipython",
    "version": 3
   },
   "file_extension": ".py",
   "mimetype": "text/x-python",
   "name": "python",
   "nbconvert_exporter": "python",
   "pygments_lexer": "ipython3",
   "version": "3.7.6"
  }
 },
 "nbformat": 4,
 "nbformat_minor": 4
}
