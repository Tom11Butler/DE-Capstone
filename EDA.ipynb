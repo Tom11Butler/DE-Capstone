{
 "cells": [
  {
   "cell_type": "markdown",
   "metadata": {},
   "source": [
    "# Exploratory Data Analysis\n",
    "Import all the necessary libraries."
   ]
  },
  {
   "cell_type": "code",
   "execution_count": 1,
   "metadata": {},
   "outputs": [],
   "source": [
    "import pandas as pd\n",
    "import glob # used for the * thing in a general filepath\n",
    "import timeit\n",
    "import seaborn as sns\n",
    "\n",
    "%matplotlib inline"
   ]
  },
  {
   "cell_type": "markdown",
   "metadata": {},
   "source": [
    "## 1. House Sales 1995-2020"
   ]
  },
  {
   "cell_type": "code",
   "execution_count": 8,
   "metadata": {},
   "outputs": [],
   "source": [
    "df = pd.read_csv('data/pp-2020.csv', header=None)"
   ]
  },
  {
   "cell_type": "code",
   "execution_count": 13,
   "metadata": {},
   "outputs": [
    {
     "data": {
      "text/html": [
       "<div>\n",
       "<style scoped>\n",
       "    .dataframe tbody tr th:only-of-type {\n",
       "        vertical-align: middle;\n",
       "    }\n",
       "\n",
       "    .dataframe tbody tr th {\n",
       "        vertical-align: top;\n",
       "    }\n",
       "\n",
       "    .dataframe thead th {\n",
       "        text-align: right;\n",
       "    }\n",
       "</style>\n",
       "<table border=\"1\" class=\"dataframe\">\n",
       "  <thead>\n",
       "    <tr style=\"text-align: right;\">\n",
       "      <th></th>\n",
       "      <th>Sale_ID</th>\n",
       "      <th>Price(£)</th>\n",
       "      <th>Transfer_Date</th>\n",
       "      <th>Postcode</th>\n",
       "      <th>Property_Type</th>\n",
       "      <th>New_Build</th>\n",
       "      <th>Freehold</th>\n",
       "      <th>Number</th>\n",
       "      <th>Flat_Number</th>\n",
       "      <th>Street</th>\n",
       "      <th>Neighbourhood</th>\n",
       "      <th>Town/City</th>\n",
       "      <th>District</th>\n",
       "      <th>Region</th>\n",
       "      <th>Record_Status</th>\n",
       "      <th>Unknown</th>\n",
       "    </tr>\n",
       "  </thead>\n",
       "  <tbody>\n",
       "    <tr>\n",
       "      <th>0</th>\n",
       "      <td>{9FF0D969-FE3D-11ED-E053-6C04A8C06383}</td>\n",
       "      <td>309000</td>\n",
       "      <td>2020-02-07 00:00</td>\n",
       "      <td>NR29 4BQ</td>\n",
       "      <td>D</td>\n",
       "      <td>N</td>\n",
       "      <td>F</td>\n",
       "      <td>HILL COTTAGE</td>\n",
       "      <td>NaN</td>\n",
       "      <td>OLD CHAPEL ROAD</td>\n",
       "      <td>WINTERTON ON SEA</td>\n",
       "      <td>GREAT YARMOUTH</td>\n",
       "      <td>GREAT YARMOUTH</td>\n",
       "      <td>NORFOLK</td>\n",
       "      <td>A</td>\n",
       "      <td>A</td>\n",
       "    </tr>\n",
       "  </tbody>\n",
       "</table>\n",
       "</div>"
      ],
      "text/plain": [
       "                                  Sale_ID  Price(£)     Transfer_Date  \\\n",
       "0  {9FF0D969-FE3D-11ED-E053-6C04A8C06383}    309000  2020-02-07 00:00   \n",
       "\n",
       "   Postcode Property_Type New_Build Freehold        Number Flat_Number  \\\n",
       "0  NR29 4BQ             D         N        F  HILL COTTAGE         NaN   \n",
       "\n",
       "            Street     Neighbourhood       Town/City        District   Region  \\\n",
       "0  OLD CHAPEL ROAD  WINTERTON ON SEA  GREAT YARMOUTH  GREAT YARMOUTH  NORFOLK   \n",
       "\n",
       "  Record_Status Unknown  \n",
       "0             A       A  "
      ]
     },
     "execution_count": 13,
     "metadata": {},
     "output_type": "execute_result"
    }
   ],
   "source": [
    "df.head(1)"
   ]
  },
  {
   "cell_type": "code",
   "execution_count": 10,
   "metadata": {},
   "outputs": [
    {
     "data": {
      "text/plain": [
       "Int64Index([0, 1, 2, 3, 4, 5, 6, 7, 8, 9, 10, 11, 12, 13, 14, 15], dtype='int64')"
      ]
     },
     "execution_count": 10,
     "metadata": {},
     "output_type": "execute_result"
    }
   ],
   "source": [
    "df.columns"
   ]
  },
  {
   "cell_type": "code",
   "execution_count": 11,
   "metadata": {},
   "outputs": [],
   "source": [
    "df.columns = ['Sale_ID', 'Price(£)', 'Transfer_Date', 'Postcode', 'Property_Type',\n",
    "              'New_Build', 'Freehold', 'Number', 'Flat_Number', 'Street',\n",
    "              'Neighbourhood', 'Town/City', 'District', 'Region',  'Record_Status',\n",
    "              'Unknown']"
   ]
  },
  {
   "cell_type": "code",
   "execution_count": 12,
   "metadata": {},
   "outputs": [
    {
     "data": {
      "text/plain": [
       "Index(['Sale_ID', 'Price(£)', 'Transfer_Date', 'Postcode', 'Property_Type',\n",
       "       'New_Build', 'Freehold', 'Number', 'Flat_Number', 'Street',\n",
       "       'Neighbourhood', 'Town/City', 'District', 'Region', 'Record_Status',\n",
       "       'Unknown'],\n",
       "      dtype='object')"
      ]
     },
     "execution_count": 12,
     "metadata": {},
     "output_type": "execute_result"
    }
   ],
   "source": [
    "df.columns"
   ]
  },
  {
   "cell_type": "markdown",
   "metadata": {},
   "source": [
    "## 2. Postcode detail"
   ]
  },
  {
   "cell_type": "code",
   "execution_count": 15,
   "metadata": {},
   "outputs": [],
   "source": [
    "sample_postcodes = pd.read_csv('data/National_Statistics_Postcode_Lookup_UK.csv', nrows=10000)"
   ]
  },
  {
   "cell_type": "code",
   "execution_count": 18,
   "metadata": {},
   "outputs": [
    {
     "data": {
      "text/html": [
       "<div>\n",
       "<style scoped>\n",
       "    .dataframe tbody tr th:only-of-type {\n",
       "        vertical-align: middle;\n",
       "    }\n",
       "\n",
       "    .dataframe tbody tr th {\n",
       "        vertical-align: top;\n",
       "    }\n",
       "\n",
       "    .dataframe thead th {\n",
       "        text-align: right;\n",
       "    }\n",
       "</style>\n",
       "<table border=\"1\" class=\"dataframe\">\n",
       "  <thead>\n",
       "    <tr style=\"text-align: right;\">\n",
       "      <th></th>\n",
       "      <th>Postcode 1</th>\n",
       "      <th>Postcode 2</th>\n",
       "      <th>Postcode 3</th>\n",
       "      <th>Date Introduced</th>\n",
       "      <th>User Type</th>\n",
       "      <th>Easting</th>\n",
       "      <th>Northing</th>\n",
       "      <th>Positional Quality</th>\n",
       "      <th>County Code</th>\n",
       "      <th>County Name</th>\n",
       "      <th>...</th>\n",
       "      <th>Output Area Classification Code</th>\n",
       "      <th>Output Area Classification Name</th>\n",
       "      <th>Longitude</th>\n",
       "      <th>Latitude</th>\n",
       "      <th>Spatial Accuracy</th>\n",
       "      <th>Last Uploaded</th>\n",
       "      <th>Location</th>\n",
       "      <th>Socrata ID</th>\n",
       "      <th>Lower Layer Super Output Area (LSOA)</th>\n",
       "      <th>Ward</th>\n",
       "    </tr>\n",
       "  </thead>\n",
       "  <tbody>\n",
       "    <tr>\n",
       "      <th>0</th>\n",
       "      <td>SL2 1NX</td>\n",
       "      <td>SL2  1NX</td>\n",
       "      <td>SL2 1NX</td>\n",
       "      <td>01-1980</td>\n",
       "      <td>0</td>\n",
       "      <td>496871</td>\n",
       "      <td>181795</td>\n",
       "      <td>1</td>\n",
       "      <td>E99999999</td>\n",
       "      <td>(pseudo) England (UA/MD/LB)</td>\n",
       "      <td>...</td>\n",
       "      <td>4B1</td>\n",
       "      <td>Multicultural metropolitans;Challenged Asian t...</td>\n",
       "      <td>-0.605005</td>\n",
       "      <td>51.526769</td>\n",
       "      <td>Postcode Level</td>\n",
       "      <td>06/03/2020</td>\n",
       "      <td>(51.526769, -0.605005)</td>\n",
       "      <td>1417572</td>\n",
       "      <td>NaN</td>\n",
       "      <td>NaN</td>\n",
       "    </tr>\n",
       "  </tbody>\n",
       "</table>\n",
       "<p>1 rows × 38 columns</p>\n",
       "</div>"
      ],
      "text/plain": [
       "  Postcode 1 Postcode 2 Postcode 3 Date Introduced  User Type  Easting  \\\n",
       "0    SL2 1NX   SL2  1NX    SL2 1NX         01-1980          0   496871   \n",
       "\n",
       "   Northing  Positional Quality County Code                  County Name  ...  \\\n",
       "0    181795                   1   E99999999  (pseudo) England (UA/MD/LB)  ...   \n",
       "\n",
       "  Output Area Classification Code  \\\n",
       "0                             4B1   \n",
       "\n",
       "                     Output Area Classification Name Longitude   Latitude  \\\n",
       "0  Multicultural metropolitans;Challenged Asian t... -0.605005  51.526769   \n",
       "\n",
       "  Spatial Accuracy Last Uploaded                Location Socrata ID  \\\n",
       "0   Postcode Level    06/03/2020  (51.526769, -0.605005)    1417572   \n",
       "\n",
       "  Lower Layer Super Output Area (LSOA) Ward  \n",
       "0                                  NaN  NaN  \n",
       "\n",
       "[1 rows x 38 columns]"
      ]
     },
     "execution_count": 18,
     "metadata": {},
     "output_type": "execute_result"
    }
   ],
   "source": [
    "sample_postcodes.head(1)"
   ]
  },
  {
   "cell_type": "code",
   "execution_count": 108,
   "metadata": {},
   "outputs": [
    {
     "data": {
      "text/plain": [
       "<matplotlib.axes._subplots.AxesSubplot at 0x14ccea3d0>"
      ]
     },
     "execution_count": 108,
     "metadata": {},
     "output_type": "execute_result"
    },
    {
     "data": {
      "image/png": "[encoded data removed]",
      "text/plain": [
       "<Figure size 432x288 with 2 Axes>"
      ]
     },
     "metadata": {
      "needs_background": "light"
     },
     "output_type": "display_data"
    }
   ],
   "source": [
    "sns.heatmap(sample_postcodes.isna())"
   ]
  },
  {
   "cell_type": "code",
   "execution_count": 104,
   "metadata": {},
   "outputs": [
    {
     "data": {
      "text/plain": [
       "['Postcode 1',\n",
       " 'Postcode 2',\n",
       " 'Postcode 3',\n",
       " 'Date Introduced',\n",
       " 'User Type',\n",
       " 'Easting',\n",
       " 'Northing',\n",
       " 'Positional Quality',\n",
       " 'County Code',\n",
       " 'County Name',\n",
       " 'Local Authority Code',\n",
       " 'Local Authority Name',\n",
       " 'Ward Code',\n",
       " 'Ward Name',\n",
       " 'Country Code',\n",
       " 'Country Name',\n",
       " 'Region Code',\n",
       " 'Region Name',\n",
       " 'Parliamentary Constituency Code',\n",
       " 'Parliamentary Constituency Name',\n",
       " 'European Electoral Region Code',\n",
       " 'European Electoral Region Name',\n",
       " 'Primary Care Trust Code',\n",
       " 'Primary Care Trust Name',\n",
       " 'Lower Super Output Area Code',\n",
       " 'Lower Super Output Area Name',\n",
       " 'Middle Super Output Area Code',\n",
       " 'Middle Super Output Area Name',\n",
       " 'Output Area Classification Code',\n",
       " 'Output Area Classification Name',\n",
       " 'Longitude',\n",
       " 'Latitude',\n",
       " 'Spatial Accuracy',\n",
       " 'Last Uploaded',\n",
       " 'Location',\n",
       " 'Socrata ID',\n",
       " 'Lower Layer Super Output Area (LSOA)',\n",
       " 'Ward']"
      ]
     },
     "execution_count": 104,
     "metadata": {},
     "output_type": "execute_result"
    }
   ],
   "source": [
    "list(sample_postcodes.columns)"
   ]
  }
 ],
 "metadata": {
  "kernelspec": {
   "display_name": "Python 3",
   "language": "python",
   "name": "python3"
  },
  "language_info": {
   "codemirror_mode": {
    "name": "ipython",
    "version": 3
   },
   "file_extension": ".py",
   "mimetype": "text/x-python",
   "name": "python",
   "nbconvert_exporter": "python",
   "pygments_lexer": "ipython3",
   "version": "3.7.6"
  }
 },
 "nbformat": 4,
 "nbformat_minor": 4
}
